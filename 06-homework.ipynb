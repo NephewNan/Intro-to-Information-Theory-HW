{
  "cells": [
    {
      "cell_type": "code",
      "execution_count": 1,
      "metadata": {
        "id": "PRSbf30roCeD"
      },
      "outputs": [],
      "source": [
        "import sympy, sympy.abc\n",
        "import numpy as np\n",
        "import matplotlib.pyplot as plt\n",
        "import io, urllib.request\n",
        "import math"
      ]
    },
    {
      "cell_type": "markdown",
      "metadata": {
        "id": "dxN--ftIoCeE"
      },
      "source": [
        "For this week's programming homework we use [SymPy](https://www.sympy.org/), a Python library for symbolic mathematics. It is installed on Google Colab. Run `pip install sympy` or similar to install it on your machine if you prefer not to work online."
      ]
    },
    {
      "cell_type": "markdown",
      "metadata": {
        "id": "qQ1i-o6koCeF"
      },
      "source": [
        "# Modular Mathematics"
      ]
    },
    {
      "cell_type": "markdown",
      "metadata": {
        "id": "WVJ31IjboCeF"
      },
      "source": [
        "Reed-Solomon codes are based on arithmetic in $\\mathbb F_q = \\{0,1,\\dots,q-1\\}$. For your convenience, we provide you with some functions that wrap SymPy's functionality to deal with this, so that you don't have to spend any time reading the SymPy manual.\n",
        "\n",
        "**You can ignore the following code: Just run it and see right below for instructions how to use it.**"
      ]
    },
    {
      "cell_type": "code",
      "execution_count": 2,
      "metadata": {
        "id": "Oq6FCEvpoCeF"
      },
      "outputs": [],
      "source": [
        "from collections.abc import Iterable\n",
        "\n",
        "\n",
        "def equals_mod(x, y, q):\n",
        "    F = sympy.GF(q)\n",
        "    if not isinstance(x, Iterable):\n",
        "        x, y = [x], [y]\n",
        "    return list(map(F, x)) == list(map(F, y))\n",
        "\n",
        "\n",
        "class Poly:\n",
        "    def __init__(self, p):\n",
        "        assert isinstance(p, sympy.Poly)\n",
        "        self.p = p\n",
        "\n",
        "    def __repr__(self):\n",
        "        return repr(self.p.as_expr())\n",
        "\n",
        "    def __eq__(self, other):\n",
        "        return self.p.domain == other.p.domain and self.p == other.p\n",
        "\n",
        "    def __add__(self, other):\n",
        "        return Poly(self.p + other.p)\n",
        "\n",
        "    def __sub__(self, other):\n",
        "        return Poly(self.p - other.p)\n",
        "\n",
        "    def __mul__(self, other):\n",
        "        return Poly(self.p * other.p)\n",
        "\n",
        "    def __mod__(self, other):\n",
        "        return Poly(sympy.rem(self.p, other.p, domain=self.p.domain))\n",
        "\n",
        "    def __call__(self, x):\n",
        "        return self.p(self.p.domain(x))\n",
        "\n",
        "    def coeffs(self, N):\n",
        "        assert self.p.degree() < N, f\"Polynomial has more than {N} coefficients.\"\n",
        "        result = self.p.all_coeffs()[::-1]\n",
        "        return result + [0] * (N - len(result))\n",
        "\n",
        "\n",
        "def poly_from_coeffs(coeffs, q):\n",
        "    return Poly(sympy.Poly(coeffs[::-1], sympy.abc.Z, domain=sympy.GF(q)))\n",
        "\n",
        "\n",
        "def poly_from_degrees_and_coeffs(degrees, coeffs, q):\n",
        "    dct = {d: c for d, c in zip(degrees, coeffs)}\n",
        "    return Poly(sympy.Poly(dct, sympy.abc.Z, domain=sympy.GF(q)))\n",
        "\n",
        "\n",
        "def poly_from_string(s, q):\n",
        "    return Poly(sympy.sympify(s).as_poly(sympy.abc.Z, domain=sympy.GF(q)))\n",
        "\n",
        "\n",
        "def linear_solve_mod(M, b, q):\n",
        "    M = sympy.Matrix(M, domain=sympy.GF(q))\n",
        "    b = sympy.Matrix([b], domain=sympy.GF(q)).T\n",
        "    assert M.rows == M.cols, \"Square matrix expected\"\n",
        "    x = M.inv_mod(q) @ b\n",
        "    return [c % q for c in x]\n",
        "\n",
        "\n",
        "def det_mod(M, q):\n",
        "    return sympy.GF(q)(sympy.Matrix(M).det())"
      ]
    },
    {
      "cell_type": "markdown",
      "metadata": {
        "id": "i12VhPv2oCeG"
      },
      "source": [
        "Here follows the documentation that shows you how to use the above code.\n",
        "\n",
        "**If you have trouble understanding the below, please do not hesitate to ask the teaching assistants by email or in person.**"
      ]
    },
    {
      "cell_type": "markdown",
      "metadata": {
        "id": "nWkj68ycoCeG"
      },
      "source": [
        "## Comparing numbers or lists of numbers\n",
        "\n",
        "Given two numbers or lists of numbers, you can use the `equals_mod` function to compare them modulo $q$:"
      ]
    },
    {
      "cell_type": "code",
      "execution_count": 3,
      "metadata": {
        "id": "U0wgSutRoCeH"
      },
      "outputs": [],
      "source": [
        "assert equals_mod(2, -3, q=5)\n",
        "assert equals_mod([2, 3], [-5, -4], q=7)"
      ]
    },
    {
      "cell_type": "markdown",
      "metadata": {
        "id": "2LKJ44KooCeH"
      },
      "source": [
        "## Polynomials\n",
        "There are three ways to **create polynomials**, namely by specifying\n",
        "1. a list of coefficients (in the same order as discussed in class: the constant coefficient goes first)\n",
        "2. a list of degrees and a list of coefficients\n",
        "3. a string\n",
        "\n",
        "as well as $q$, the size of $\\mathbb F_q$. The third option is mostly useful for debugging.\n",
        "\n",
        "The following code creates the polynomial $1 - X^2$ for $q=3$ in the three different ways:"
      ]
    },
    {
      "cell_type": "code",
      "execution_count": 4,
      "metadata": {
        "id": "IISvfXE3oCeI"
      },
      "outputs": [],
      "source": [
        "A = poly_from_coeffs([1, 0, -1], q=3)\n",
        "B = poly_from_degrees_and_coeffs([0, 2], [1, -1], q=3)\n",
        "C = poly_from_string(\"1 - Z**2\", q=3)\n",
        "assert A == B == C"
      ]
    },
    {
      "cell_type": "markdown",
      "metadata": {
        "id": "G-regKy3oCeI"
      },
      "source": [
        "You can **add**, **subtract**, and **multiply** polynomials just like you would expect:"
      ]
    },
    {
      "cell_type": "code",
      "execution_count": 5,
      "metadata": {
        "id": "iOsjeRm7oCeI"
      },
      "outputs": [],
      "source": [
        "A = poly_from_string(\"1\", q=5)\n",
        "B = poly_from_string(\"Z - 1\", q=5)\n",
        "C = poly_from_string(\"Z\", q=5)\n",
        "D = poly_from_string(\"Z**2 - Z\", q=5)\n",
        "assert A + B == C and C - B == A and A * B * C == D"
      ]
    },
    {
      "cell_type": "markdown",
      "metadata": {
        "id": "8feSQaiioCeI"
      },
      "source": [
        "Likewise, to compute the **remainder** of $A$ divided by $B$:"
      ]
    },
    {
      "cell_type": "code",
      "execution_count": 6,
      "metadata": {
        "id": "nqSTrl36oCeJ"
      },
      "outputs": [],
      "source": [
        "A = poly_from_string(\"2*Z**2 + Z**4\", q=5)\n",
        "B = poly_from_string(\"Z**2 + 4*Z\", q=5)\n",
        "assert A % B == poly_from_string(\"3*Z\", q=5)"
      ]
    },
    {
      "cell_type": "markdown",
      "metadata": {
        "id": "4CJk7rEhoCeJ"
      },
      "source": [
        "You can also **evaluate** polynomials, i.e., compute $P(x)$ for some $x$, in the obvious way:"
      ]
    },
    {
      "cell_type": "code",
      "execution_count": 7,
      "metadata": {
        "id": "bGS_oH1eoCeJ",
        "outputId": "199a2b46-4c4e-43d7-b0cc-036abb3674b8",
        "colab": {
          "base_uri": "https://localhost:8080/",
          "height": 57
        }
      },
      "outputs": [
        {
          "output_type": "execute_result",
          "data": {
            "text/plain": [
              "-1"
            ],
            "text/latex": "$\\displaystyle -1$"
          },
          "metadata": {},
          "execution_count": 7
        }
      ],
      "source": [
        "P = poly_from_string(\"Z**2 - 5\", q=7)\n",
        "P(2)"
      ]
    },
    {
      "cell_type": "markdown",
      "metadata": {
        "id": "a09r99LXoCeJ"
      },
      "source": [
        "Finally, you can extract the polynomial's **coefficients** as follows. The parameter specifies how many coefficients to extract (starting with the constant term):"
      ]
    },
    {
      "cell_type": "code",
      "execution_count": 8,
      "metadata": {
        "id": "ih4v9pMroCeK",
        "outputId": "a65d33ad-c8f8-431f-8655-bf4247e50e93",
        "colab": {
          "base_uri": "https://localhost:8080/",
          "height": 0
        }
      },
      "outputs": [
        {
          "output_type": "execute_result",
          "data": {
            "text/plain": [
              "[1, -2, 3, 0, 0, 0, 0, 0, 0, 0]"
            ]
          },
          "metadata": {},
          "execution_count": 8
        }
      ],
      "source": [
        "P = poly_from_string(\"3 * Z**2 - 2 * Z + 1\", q=7)\n",
        "P.coeffs(10)"
      ]
    },
    {
      "cell_type": "markdown",
      "metadata": {
        "id": "6rNDSK8voCeK"
      },
      "source": [
        "## Linear Equations"
      ]
    },
    {
      "cell_type": "markdown",
      "metadata": {
        "id": "7AIQ9_xHoCeK"
      },
      "source": [
        "We also provide you with some means of dealing a system of **linear equations** modulo $q$.\n",
        "We will only be interested in the case that there are as many equations as unknowns.\n",
        "Thus, suppose $M$ is a *square* matrix and $\\mathbf b$ a vector and you want to find a solution vector $\\mathbf a$ that **solves**:\n",
        "\n",
        "$$M \\mathbf a \\equiv \\mathbf b \\pmod q$$\n",
        "\n",
        "This can be done using `linear_solve_mod` function.\n",
        "\n",
        "For example, the equations $2 a_1 + a_2 \\equiv 2$ and $a_2 \\equiv 3$ modulo $7$ can be written as\n",
        "\n",
        "$$\n",
        "\\begin{bmatrix}2 & 1 \\\\ 0 & 1\\end{bmatrix} \\begin{bmatrix}a_1\\\\a_2\\end{bmatrix} = \\begin{bmatrix}2 \\\\ 3\\end{bmatrix} \\pmod 7\n",
        "$$\n",
        "\n",
        "and can be solved as follows.\n",
        "Note that, where we represent $M$ as a list of lists (row by row) and $\\mathbf b$ by a list."
      ]
    },
    {
      "cell_type": "code",
      "execution_count": 9,
      "metadata": {
        "id": "ocCFrl1boCeK",
        "outputId": "e6c7d4f9-c338-4bbb-ea17-b590ac8d871a",
        "colab": {
          "base_uri": "https://localhost:8080/",
          "height": 0
        }
      },
      "outputs": [
        {
          "output_type": "execute_result",
          "data": {
            "text/plain": [
              "[3, 3]"
            ]
          },
          "metadata": {},
          "execution_count": 9
        }
      ],
      "source": [
        "M = [[2, 1], [0, 1]]\n",
        "b = [2, 3]\n",
        "linear_solve_mod(M, b, q=7)"
      ]
    },
    {
      "cell_type": "markdown",
      "metadata": {
        "id": "lJHyuNHdoCeL"
      },
      "source": [
        "A system of equations as above has a unique solution if and only if the **determinant** of the matrix is nonzero.\n",
        "Use `det_mod` to compute the determinant:"
      ]
    },
    {
      "cell_type": "code",
      "execution_count": 10,
      "metadata": {
        "id": "4xD4r3b5oCeL"
      },
      "outputs": [],
      "source": [
        "assert det_mod(M, q=7) != 0\n",
        "assert det_mod(M, q=2) == 0"
      ]
    },
    {
      "cell_type": "markdown",
      "metadata": {
        "id": "DPX0YwHYoCeM"
      },
      "source": [
        "# Reed-Solomon Codes"
      ]
    },
    {
      "cell_type": "markdown",
      "metadata": {
        "id": "_-5tilECoCeM"
      },
      "source": [
        "Now starts the fun part!\n",
        "Recall that a Reed-Solomon code is specified by parameters $K < N < q$ and $\\alpha$.\n",
        "Like in class, we define $T = N - K$.\n",
        "\n",
        "**Your first task is to compute the generator polynomial** given $T$, $\\alpha$, and $q$:"
      ]
    },
    {
      "cell_type": "code",
      "execution_count": 11,
      "metadata": {
        "id": "dZ_CCgt7oCeM"
      },
      "outputs": [],
      "source": [
        "def generator_poly(T, alpha, q):\n",
        "    G = poly_from_coeffs([1], q=q)\n",
        "    for t in range(T):\n",
        "        G = G * poly_from_string(\"Z-\"+str(alpha)+\"**\"+str(t+1), q=q)\n",
        "        print(G)\n",
        "    return G"
      ]
    },
    {
      "cell_type": "markdown",
      "metadata": {
        "id": "s_uAG56_oCeO"
      },
      "source": [
        "Here is a test to make sure everything works fine (we discussed this example in class):"
      ]
    },
    {
      "cell_type": "code",
      "execution_count": 12,
      "metadata": {
        "id": "RfW33jQEoCeP",
        "outputId": "8161c64c-4dd9-449e-bec0-5618230fd660",
        "colab": {
          "base_uri": "https://localhost:8080/",
          "height": 0
        }
      },
      "outputs": [
        {
          "output_type": "stream",
          "name": "stdout",
          "text": [
            "Z - 2\n",
            "Z**2 - Z - 2\n"
          ]
        }
      ],
      "source": [
        "assert generator_poly(T=2, alpha=2, q=5) == poly_from_string(\"Z**2 - Z - 2\", q=5)"
      ]
    },
    {
      "cell_type": "markdown",
      "metadata": {
        "id": "RIIWgYxEoCeP"
      },
      "source": [
        "## Encoder\n",
        "\n",
        "**Your next task is to program the encoder**. Your function should take as input the message $s^K$ as a list of length $K$, as well as $T$, $\\alpha$, and $q$, and it should return the codeword as a list of length $N = K + T$."
      ]
    },
    {
      "cell_type": "code",
      "execution_count": 13,
      "metadata": {
        "id": "lvC3TqKLoCeP"
      },
      "outputs": [],
      "source": [
        "def encode(s, T, alpha, q):\n",
        "    K = len(s)\n",
        "    N = K + T\n",
        "    G = generator_poly(T, alpha, q)\n",
        "    P = poly_from_coeffs(s, q)\n",
        "    R = P * poly_from_string(\"Z**\"+str(T), q) % G\n",
        "    m = P * poly_from_string(\"Z**\"+str(T), q) - R\n",
        "    codeword = m.coeffs(N)\n",
        "    return codeword"
      ]
    },
    {
      "cell_type": "markdown",
      "metadata": {
        "id": "iT2TG8rIoCeP"
      },
      "source": [
        "Here are two tests to check your code. The first one is from Lecture 12, the other taken from Wikipedia:"
      ]
    },
    {
      "cell_type": "code",
      "execution_count": 14,
      "metadata": {
        "id": "HTZWET9toCeP",
        "outputId": "052c9cb5-6f2d-4f79-d27d-5c447d7c4bc2",
        "colab": {
          "base_uri": "https://localhost:8080/",
          "height": 0
        }
      },
      "outputs": [
        {
          "output_type": "stream",
          "name": "stdout",
          "text": [
            "Z - 2\n",
            "Z**2 - Z - 2\n",
            "Z - 2\n",
            "Z**2 - Z - 2\n",
            "Z - 2\n",
            "Z**2 - Z - 2\n",
            "Z - 2\n",
            "Z**2 - Z - 2\n",
            "Z - 2\n",
            "Z**2 - Z - 2\n",
            "Z - 3\n",
            "Z**2 - 12*Z + 27\n",
            "Z**3 - 39*Z**2 + 351*Z + 200\n",
            "Z**4 - 120*Z**3 - 206*Z**2 - 361*Z - 407\n"
          ]
        }
      ],
      "source": [
        "for s in range(5):\n",
        "    x = encode([s], T=2, alpha=2, q=5)\n",
        "    assert equals_mod(x, [-2 * s, -s, s], q=5)\n",
        "\n",
        "wiki = encode([1, 2, 3], T=4, q=929, alpha=3)\n",
        "assert equals_mod(wiki, [474, 487, 191, 382, 1, 2, 3], q=929)"
      ]
    },
    {
      "cell_type": "markdown",
      "metadata": {
        "id": "-gQPt_FRoCeP"
      },
      "source": [
        "## Decoding Erasure Errors\n",
        "\n",
        "Now it's time to start decoding.\n",
        "**Implement the decoding algorithm for erasure errors discussed in class.**\n",
        "Your function should take as input the received string $y^N$ (as a list of length $N$), the locations of the errors (as a list of size at most $T$), as well as $T$, $\\alpha$, and $q$. Just like in the lecture, each error location is an integer between $0$ and $N-1$. Your function should return as output the decoded message $s^K$."
      ]
    },
    {
      "cell_type": "code",
      "execution_count": 15,
      "metadata": {
        "id": "txRa5Pa1oCeP"
      },
      "outputs": [],
      "source": [
        "def decode_erasures(y, locations, T, alpha, q):\n",
        "    N = len(y)\n",
        "    K = N - T\n",
        "    assert len(locations) <= T, f\"Can decode at most {T} erasure errors.\"\n",
        "    # TODO: can you implement the rest?\n",
        "    degrees = []\n",
        "    for i in range(N):\n",
        "      if i not in locations:\n",
        "        degrees.append(i)\n",
        "    coeffs = []\n",
        "    for deg in degrees:\n",
        "      coeffs.append(y[deg])\n",
        "    R = poly_from_degrees_and_coeffs(degrees, coeffs, q)\n",
        "    b = []\n",
        "    for i in range(len(locations)):\n",
        "      b.append(R(alpha**(i+1)))\n",
        "    M = []\n",
        "    for i in range(len(locations)):\n",
        "        row = []\n",
        "        for loc in locations:\n",
        "            row.append(((alpha ** (i+1)) ** loc) % q)\n",
        "        M.append(row)\n",
        "    E = poly_from_degrees_and_coeffs(locations,linear_solve_mod(M, b, q),q)\n",
        "    m = R - E\n",
        "    ans = m.coeffs(N)\n",
        "    ans = ans[-K:]\n",
        "    return ans\n",
        "\n"
      ]
    },
    {
      "cell_type": "markdown",
      "metadata": {
        "id": "ld1DK1SboCeQ"
      },
      "source": [
        "You can verify your code with following tests:"
      ]
    },
    {
      "cell_type": "code",
      "execution_count": 17,
      "metadata": {
        "id": "ZkD2eLJZoCeQ"
      },
      "outputs": [],
      "source": [
        "for s in range(5):\n",
        "    got = decode_erasures([0, -s, 0], locations=[0, 2], T=2, q=5, alpha=2)\n",
        "    assert equals_mod(got, [s], q=5)\n",
        "\n",
        "wiki_corrupted = [0, 0, 191, 382, 0, 0, 3]\n",
        "wiki_locations = [0, 1, 4, 5]\n",
        "s = decode_erasures(wiki_corrupted, wiki_locations, T=4, q=929, alpha=3)\n",
        "assert equals_mod(s, [1, 2, 3], q=929)"
      ]
    },
    {
      "cell_type": "markdown",
      "metadata": {
        "id": "MK9KdGCIoCeQ"
      },
      "source": [
        "## Decoding Errors at Unknown Locations"
      ]
    },
    {
      "cell_type": "markdown",
      "metadata": {
        "id": "ixF4zn12oCeQ"
      },
      "source": [
        "Erasure errors are fun, but errors at unknown locations are the \"real deal\"."
      ]
    },
    {
      "cell_type": "markdown",
      "metadata": {
        "id": "groXZ37voCeQ"
      },
      "source": [
        "**Your final task is to implement the decoding algorithm for errors at unknown locations described in the lecture and the exercise class.**\n",
        "Your function should take as input $y^N$, $T$, $\\alpha$, $q$, and it should return the decoded message $s^K$ (same format as above).\n",
        "\n",
        "*Hint: See the [lecture notes](https://staff.fnwi.uva.nl/m.walter/iit21/12-lecture.pdf) for a detailed description. First determine the location of the errors and then use `decode_erasures` from above.*"
      ]
    },
    {
      "cell_type": "code",
      "source": [
        "def decode_unknown(y, T, alpha, q):\n",
        "    N = len(y)\n",
        "    K = N - T\n",
        "    R = poly_from_coeffs(y, q)\n",
        "    print('N=',N,'K=',K,'R=',R)\n",
        "    flag = 0\n",
        "    for i in range(T):\n",
        "        if R(alpha ** i) != 0:\n",
        "            flag = 1\n",
        "            break\n",
        "    print('flag=',flag)\n",
        "    if flag == 0:\n",
        "        M = R\n",
        "        print('M=',M)\n",
        "    else:\n",
        "        for C in range(math.floor(T / 2), 0, -1):\n",
        "            print('C=',C)\n",
        "            A = [[R(alpha ** (C + i - j)) for i in range(C)] for j in range(C)]\n",
        "            print('A=',A)\n",
        "            print('det A=', det_mod(A, q))\n",
        "            if det_mod(A, q) != 0:\n",
        "                solv = [1]\n",
        "                solv += linear_solve_mod(A, [-R(alpha ** (C + i + 1)) for i in range(C)], q)\n",
        "                print('solv=',solv)\n",
        "                L = poly_from_coeffs(solv, q)\n",
        "                print('L=', L)\n",
        "                print(L.coeffs(C+1))\n",
        "                p = np.roots(L.coeffs(C+1))\n",
        "                print('p=',p)\n",
        "                i = [0 for i in range(C)]\n",
        "                for k in range(C):\n",
        "                    for number in range(N):\n",
        "                      if p[k] == alpha**(-number):\n",
        "                        i[k] = number\n",
        "                print('i=',i)\n",
        "                matrix = [[alpha**(i[n]*m)  for n in range(C)] for m in range(1, T+1) ]\n",
        "                vector = [R(alpha**m) for m in range(1, T+1)]\n",
        "                print('matrix=',matrix)\n",
        "                print('vector=',vector)\n",
        "                e = linear_solve_mod(matrix, vector, q)\n",
        "                E = poly_from_degrees_and_coeffs(i, e, q)\n",
        "                M = R - E\n",
        "                print('M=',M)\n",
        "                break\n",
        "    coM = M.coeffs(N)\n",
        "    s = [0 for i in range(K)]\n",
        "    for k in range(K):\n",
        "      s[k] = coM[N-K+k]\n",
        "    print(s)\n",
        "    return s\n"
      ],
      "metadata": {
        "id": "KJUFK1QHoCeQ"
      },
      "execution_count": 92,
      "outputs": []
    },
    {
      "cell_type": "markdown",
      "metadata": {
        "id": "Iku4NpZMoCeQ"
      },
      "source": [
        "As usual here are some tests to verify your implementation:"
      ]
    },
    {
      "cell_type": "code",
      "execution_count": 93,
      "metadata": {
        "id": "JxbH1Vq0oCeQ",
        "outputId": "388a2e23-5b67-47d4-8a20-176b804ba8c0",
        "colab": {
          "base_uri": "https://localhost:8080/",
          "height": 702
        }
      },
      "outputs": [
        {
          "output_type": "stream",
          "name": "stdout",
          "text": [
            "0 0\n",
            "N= 3 K= 1 R= 0\n",
            "flag= 0\n",
            "M= 0\n",
            "[0]\n",
            "0 1\n",
            "N= 3 K= 1 R= Z**2\n",
            "flag= 1\n",
            "C= 1\n",
            "A= [[-1]]\n",
            "det A= 4 mod 5\n",
            "solv= [1, 1]\n",
            "L= Z + 1\n",
            "[1, 1]\n",
            "p= [-1.]\n",
            "i= [0]\n",
            "matrix= [[1], [1]]\n",
            "vector= [-1, 1]\n"
          ]
        },
        {
          "output_type": "error",
          "ename": "AssertionError",
          "evalue": "Square matrix expected",
          "traceback": [
            "\u001b[0;31m---------------------------------------------------------------------------\u001b[0m",
            "\u001b[0;31mAssertionError\u001b[0m                            Traceback (most recent call last)",
            "\u001b[0;32m<ipython-input-93-0535dc1a8c54>\u001b[0m in \u001b[0;36m<cell line: 1>\u001b[0;34m()\u001b[0m\n\u001b[1;32m      2\u001b[0m     \u001b[0;32mfor\u001b[0m \u001b[0mt\u001b[0m \u001b[0;32min\u001b[0m \u001b[0mrange\u001b[0m\u001b[0;34m(\u001b[0m\u001b[0;36m5\u001b[0m\u001b[0;34m)\u001b[0m\u001b[0;34m:\u001b[0m\u001b[0;34m\u001b[0m\u001b[0;34m\u001b[0m\u001b[0m\n\u001b[1;32m      3\u001b[0m         \u001b[0mprint\u001b[0m\u001b[0;34m(\u001b[0m\u001b[0ms\u001b[0m\u001b[0;34m,\u001b[0m\u001b[0mt\u001b[0m\u001b[0;34m)\u001b[0m\u001b[0;34m\u001b[0m\u001b[0;34m\u001b[0m\u001b[0m\n\u001b[0;32m----> 4\u001b[0;31m         \u001b[0mgot\u001b[0m \u001b[0;34m=\u001b[0m \u001b[0mdecode_unknown\u001b[0m\u001b[0;34m(\u001b[0m\u001b[0;34m[\u001b[0m\u001b[0;34m-\u001b[0m\u001b[0;36m2\u001b[0m \u001b[0;34m*\u001b[0m \u001b[0ms\u001b[0m\u001b[0;34m,\u001b[0m \u001b[0;34m-\u001b[0m\u001b[0ms\u001b[0m\u001b[0;34m,\u001b[0m \u001b[0mt\u001b[0m\u001b[0;34m]\u001b[0m\u001b[0;34m,\u001b[0m \u001b[0mT\u001b[0m\u001b[0;34m=\u001b[0m\u001b[0;36m2\u001b[0m\u001b[0;34m,\u001b[0m \u001b[0mq\u001b[0m\u001b[0;34m=\u001b[0m\u001b[0;36m5\u001b[0m\u001b[0;34m,\u001b[0m \u001b[0malpha\u001b[0m\u001b[0;34m=\u001b[0m\u001b[0;36m2\u001b[0m\u001b[0;34m)\u001b[0m  \u001b[0;31m# location 2\u001b[0m\u001b[0;34m\u001b[0m\u001b[0;34m\u001b[0m\u001b[0m\n\u001b[0m\u001b[1;32m      5\u001b[0m         \u001b[0;32massert\u001b[0m \u001b[0mequals_mod\u001b[0m\u001b[0;34m(\u001b[0m\u001b[0mgot\u001b[0m\u001b[0;34m,\u001b[0m \u001b[0;34m[\u001b[0m\u001b[0ms\u001b[0m\u001b[0;34m]\u001b[0m\u001b[0;34m,\u001b[0m \u001b[0mq\u001b[0m\u001b[0;34m=\u001b[0m\u001b[0;36m5\u001b[0m\u001b[0;34m)\u001b[0m\u001b[0;34m\u001b[0m\u001b[0;34m\u001b[0m\u001b[0m\n\u001b[1;32m      6\u001b[0m \u001b[0;34m\u001b[0m\u001b[0m\n",
            "\u001b[0;32m<ipython-input-92-7c574df16640>\u001b[0m in \u001b[0;36mdecode_unknown\u001b[0;34m(y, T, alpha, q)\u001b[0m\n\u001b[1;32m     38\u001b[0m                 \u001b[0mprint\u001b[0m\u001b[0;34m(\u001b[0m\u001b[0;34m'matrix='\u001b[0m\u001b[0;34m,\u001b[0m\u001b[0mmatrix\u001b[0m\u001b[0;34m)\u001b[0m\u001b[0;34m\u001b[0m\u001b[0;34m\u001b[0m\u001b[0m\n\u001b[1;32m     39\u001b[0m                 \u001b[0mprint\u001b[0m\u001b[0;34m(\u001b[0m\u001b[0;34m'vector='\u001b[0m\u001b[0;34m,\u001b[0m\u001b[0mvector\u001b[0m\u001b[0;34m)\u001b[0m\u001b[0;34m\u001b[0m\u001b[0;34m\u001b[0m\u001b[0m\n\u001b[0;32m---> 40\u001b[0;31m                 \u001b[0me\u001b[0m \u001b[0;34m=\u001b[0m \u001b[0mlinear_solve_mod\u001b[0m\u001b[0;34m(\u001b[0m\u001b[0mmatrix\u001b[0m\u001b[0;34m,\u001b[0m \u001b[0mvector\u001b[0m\u001b[0;34m,\u001b[0m \u001b[0mq\u001b[0m\u001b[0;34m)\u001b[0m\u001b[0;34m\u001b[0m\u001b[0;34m\u001b[0m\u001b[0m\n\u001b[0m\u001b[1;32m     41\u001b[0m                 \u001b[0mE\u001b[0m \u001b[0;34m=\u001b[0m \u001b[0mpoly_from_degrees_and_coeffs\u001b[0m\u001b[0;34m(\u001b[0m\u001b[0mi\u001b[0m\u001b[0;34m,\u001b[0m \u001b[0me\u001b[0m\u001b[0;34m,\u001b[0m \u001b[0mq\u001b[0m\u001b[0;34m)\u001b[0m\u001b[0;34m\u001b[0m\u001b[0;34m\u001b[0m\u001b[0m\n\u001b[1;32m     42\u001b[0m                 \u001b[0mM\u001b[0m \u001b[0;34m=\u001b[0m \u001b[0mR\u001b[0m \u001b[0;34m-\u001b[0m \u001b[0mE\u001b[0m\u001b[0;34m\u001b[0m\u001b[0;34m\u001b[0m\u001b[0m\n",
            "\u001b[0;32m<ipython-input-2-c879786a1e25>\u001b[0m in \u001b[0;36mlinear_solve_mod\u001b[0;34m(M, b, q)\u001b[0m\n\u001b[1;32m     57\u001b[0m     \u001b[0mM\u001b[0m \u001b[0;34m=\u001b[0m \u001b[0msympy\u001b[0m\u001b[0;34m.\u001b[0m\u001b[0mMatrix\u001b[0m\u001b[0;34m(\u001b[0m\u001b[0mM\u001b[0m\u001b[0;34m,\u001b[0m \u001b[0mdomain\u001b[0m\u001b[0;34m=\u001b[0m\u001b[0msympy\u001b[0m\u001b[0;34m.\u001b[0m\u001b[0mGF\u001b[0m\u001b[0;34m(\u001b[0m\u001b[0mq\u001b[0m\u001b[0;34m)\u001b[0m\u001b[0;34m)\u001b[0m\u001b[0;34m\u001b[0m\u001b[0;34m\u001b[0m\u001b[0m\n\u001b[1;32m     58\u001b[0m     \u001b[0mb\u001b[0m \u001b[0;34m=\u001b[0m \u001b[0msympy\u001b[0m\u001b[0;34m.\u001b[0m\u001b[0mMatrix\u001b[0m\u001b[0;34m(\u001b[0m\u001b[0;34m[\u001b[0m\u001b[0mb\u001b[0m\u001b[0;34m]\u001b[0m\u001b[0;34m,\u001b[0m \u001b[0mdomain\u001b[0m\u001b[0;34m=\u001b[0m\u001b[0msympy\u001b[0m\u001b[0;34m.\u001b[0m\u001b[0mGF\u001b[0m\u001b[0;34m(\u001b[0m\u001b[0mq\u001b[0m\u001b[0;34m)\u001b[0m\u001b[0;34m)\u001b[0m\u001b[0;34m.\u001b[0m\u001b[0mT\u001b[0m\u001b[0;34m\u001b[0m\u001b[0;34m\u001b[0m\u001b[0m\n\u001b[0;32m---> 59\u001b[0;31m     \u001b[0;32massert\u001b[0m \u001b[0mM\u001b[0m\u001b[0;34m.\u001b[0m\u001b[0mrows\u001b[0m \u001b[0;34m==\u001b[0m \u001b[0mM\u001b[0m\u001b[0;34m.\u001b[0m\u001b[0mcols\u001b[0m\u001b[0;34m,\u001b[0m \u001b[0;34m\"Square matrix expected\"\u001b[0m\u001b[0;34m\u001b[0m\u001b[0;34m\u001b[0m\u001b[0m\n\u001b[0m\u001b[1;32m     60\u001b[0m     \u001b[0mx\u001b[0m \u001b[0;34m=\u001b[0m \u001b[0mM\u001b[0m\u001b[0;34m.\u001b[0m\u001b[0minv_mod\u001b[0m\u001b[0;34m(\u001b[0m\u001b[0mq\u001b[0m\u001b[0;34m)\u001b[0m \u001b[0;34m@\u001b[0m \u001b[0mb\u001b[0m\u001b[0;34m\u001b[0m\u001b[0;34m\u001b[0m\u001b[0m\n\u001b[1;32m     61\u001b[0m     \u001b[0;32mreturn\u001b[0m \u001b[0;34m[\u001b[0m\u001b[0mc\u001b[0m \u001b[0;34m%\u001b[0m \u001b[0mq\u001b[0m \u001b[0;32mfor\u001b[0m \u001b[0mc\u001b[0m \u001b[0;32min\u001b[0m \u001b[0mx\u001b[0m\u001b[0;34m]\u001b[0m\u001b[0;34m\u001b[0m\u001b[0;34m\u001b[0m\u001b[0m\n",
            "\u001b[0;31mAssertionError\u001b[0m: Square matrix expected"
          ]
        }
      ],
      "source": [
        "for s in range(5):\n",
        "    for t in range(5):\n",
        "        print(s,t)\n",
        "        got = decode_unknown([-2 * s, -s, t], T=2, q=5, alpha=2)  # location 2\n",
        "        assert equals_mod(got, [s], q=5)\n",
        "\n",
        "wiki_corrupted = [474, 23, 191, 382, 1, 99, 3]  # location 1 and 5\n",
        "s = decode_unknown(wiki_corrupted, T=4, q=929, alpha=3)\n",
        "assert equals_mod(s, [1, 2, 3], q=929)"
      ]
    },
    {
      "cell_type": "markdown",
      "metadata": {
        "id": "ceGkqMjuoCeR"
      },
      "source": [
        "**This concludes your homework.** Below there are no further tasks for you to implement, but a nice application of the code that you just wrote."
      ]
    },
    {
      "cell_type": "markdown",
      "metadata": {
        "id": "onkCeNKEoCeR"
      },
      "source": [
        "# Tale of the Robot Gorilla"
      ]
    },
    {
      "cell_type": "markdown",
      "metadata": {
        "id": "JE8tnnCUoCeR"
      },
      "source": [
        "Just for fun, let's take our Reed-Solomon code to good use by protecting an image against errors. The following code loads the black & white image."
      ]
    },
    {
      "cell_type": "code",
      "execution_count": null,
      "metadata": {
        "id": "8fYnTxWhoCeR",
        "outputId": "ab924063-2778-416f-8850-3c61c8e3b9c1",
        "colab": {
          "base_uri": "https://localhost:8080/",
          "height": 455
        }
      },
      "outputs": [
        {
          "output_type": "display_data",
          "data": {
            "text/plain": [
              "<Figure size 640x480 with 1 Axes>"
            ],
            "image/png": "[encoded data removed]"
          },
          "metadata": {}
        }
      ],
      "source": [
        "URL = \"https://github.com/qi-rub/it-ss23-homework/raw/main/material/gorilla.png\"\n",
        "ORIGINAL_IMAGE = plt.imread(io.BytesIO(urllib.request.urlopen(URL).read()))\n",
        "assert ORIGINAL_IMAGE.shape[0] * ORIGINAL_IMAGE.shape[1] % 8 == 0, \"should be multiple of 8 pixels\"\n",
        "\n",
        "# remove alpha channel\n",
        "if ORIGINAL_IMAGE.shape[2] == 4:\n",
        "    alpha = ORIGINAL_IMAGE[:, :, 3:]\n",
        "    ORIGINAL_IMAGE = ORIGINAL_IMAGE[:, :, :3] * alpha + (1 - alpha)\n",
        "\n",
        "# convert to black & white\n",
        "WHITE_THRESHOLD = 0.4\n",
        "ORIGINAL_IMAGE = np.where(ORIGINAL_IMAGE[:, :, :3].max(axis=2) > WHITE_THRESHOLD, 0, 1)\n",
        "\n",
        "# show the figure\n",
        "plt.imshow(ORIGINAL_IMAGE, cmap=plt.get_cmap(\"binary\"), interpolation=\"none\")\n",
        "plt.show()"
      ]
    },
    {
      "cell_type": "markdown",
      "metadata": {
        "id": "PpDFXBFhoCeR"
      },
      "source": [
        "Reed-Solomon codes use $\\mathbb F_q$ as an alphabet.\n",
        "We will choose $q=257$, so that every symbol can store up 8 bits (1 byte).\n",
        "The following functions convert between the 2d binary array representing an image and a list of strings over $\\mathbb F_q$."
      ]
    },
    {
      "cell_type": "code",
      "execution_count": null,
      "metadata": {
        "id": "6uBaslXfoCeR"
      },
      "outputs": [],
      "source": [
        "def image_to_bytes(img):\n",
        "    return np.packbits(img.reshape(-1))\n",
        "\n",
        "\n",
        "def bytes_to_image(bs):\n",
        "    return np.unpackbits(bs).reshape(ORIGINAL_IMAGE.shape)\n",
        "\n",
        "\n",
        "assert np.allclose(bytes_to_image(image_to_bytes(ORIGINAL_IMAGE)), ORIGINAL_IMAGE)"
      ]
    },
    {
      "cell_type": "markdown",
      "metadata": {
        "id": "HDBY6UqtoCeS"
      },
      "source": [
        "Let us use as block size $N = 256 < q = 257$ and $\\alpha=3$ (a generator) and choose $T = 6$ (tolerating up to 3 errors at unknown locations per block). This means that we want to block our message into strings of length $K = 250$.\n",
        "Thus we obtain the following encoder:"
      ]
    },
    {
      "cell_type": "code",
      "execution_count": null,
      "metadata": {
        "id": "r1rCfkLhoCeS",
        "outputId": "0f8330e2-b4c6-4561-a9cf-2ec015a6b8d9",
        "colab": {
          "base_uri": "https://localhost:8080/"
        }
      },
      "outputs": [
        {
          "output_type": "stream",
          "name": "stdout",
          "text": [
            "Z - 3\n",
            "Z**2 - 12*Z + 27\n",
            "Z**3 - 39*Z**2 + 94*Z + 42\n",
            "Z**4 - 120*Z**3 - 88*Z**2 - 119*Z - 61\n",
            "Z**5 - 106*Z**4 + 31*Z**3 - 66*Z**2 + 72*Z - 83\n",
            "Z**6 - 64*Z**5 - 52*Z**4 - 49*Z**3 + 127*Z**2 + 114*Z + 112\n",
            "Z - 3\n",
            "Z**2 - 12*Z + 27\n",
            "Z**3 - 39*Z**2 + 94*Z + 42\n",
            "Z**4 - 120*Z**3 - 88*Z**2 - 119*Z - 61\n",
            "Z**5 - 106*Z**4 + 31*Z**3 - 66*Z**2 + 72*Z - 83\n",
            "Z**6 - 64*Z**5 - 52*Z**4 - 49*Z**3 + 127*Z**2 + 114*Z + 112\n",
            "Z - 3\n",
            "Z**2 - 12*Z + 27\n",
            "Z**3 - 39*Z**2 + 94*Z + 42\n",
            "Z**4 - 120*Z**3 - 88*Z**2 - 119*Z - 61\n",
            "Z**5 - 106*Z**4 + 31*Z**3 - 66*Z**2 + 72*Z - 83\n",
            "Z**6 - 64*Z**5 - 52*Z**4 - 49*Z**3 + 127*Z**2 + 114*Z + 112\n",
            "Z - 3\n",
            "Z**2 - 12*Z + 27\n",
            "Z**3 - 39*Z**2 + 94*Z + 42\n",
            "Z**4 - 120*Z**3 - 88*Z**2 - 119*Z - 61\n",
            "Z**5 - 106*Z**4 + 31*Z**3 - 66*Z**2 + 72*Z - 83\n",
            "Z**6 - 64*Z**5 - 52*Z**4 - 49*Z**3 + 127*Z**2 + 114*Z + 112\n",
            "Z - 3\n",
            "Z**2 - 12*Z + 27\n",
            "Z**3 - 39*Z**2 + 94*Z + 42\n",
            "Z**4 - 120*Z**3 - 88*Z**2 - 119*Z - 61\n",
            "Z**5 - 106*Z**4 + 31*Z**3 - 66*Z**2 + 72*Z - 83\n",
            "Z**6 - 64*Z**5 - 52*Z**4 - 49*Z**3 + 127*Z**2 + 114*Z + 112\n",
            "Z - 3\n",
            "Z**2 - 12*Z + 27\n",
            "Z**3 - 39*Z**2 + 94*Z + 42\n",
            "Z**4 - 120*Z**3 - 88*Z**2 - 119*Z - 61\n",
            "Z**5 - 106*Z**4 + 31*Z**3 - 66*Z**2 + 72*Z - 83\n",
            "Z**6 - 64*Z**5 - 52*Z**4 - 49*Z**3 + 127*Z**2 + 114*Z + 112\n",
            "Z - 3\n",
            "Z**2 - 12*Z + 27\n",
            "Z**3 - 39*Z**2 + 94*Z + 42\n",
            "Z**4 - 120*Z**3 - 88*Z**2 - 119*Z - 61\n",
            "Z**5 - 106*Z**4 + 31*Z**3 - 66*Z**2 + 72*Z - 83\n",
            "Z**6 - 64*Z**5 - 52*Z**4 - 49*Z**3 + 127*Z**2 + 114*Z + 112\n",
            "Z - 3\n",
            "Z**2 - 12*Z + 27\n",
            "Z**3 - 39*Z**2 + 94*Z + 42\n",
            "Z**4 - 120*Z**3 - 88*Z**2 - 119*Z - 61\n",
            "Z**5 - 106*Z**4 + 31*Z**3 - 66*Z**2 + 72*Z - 83\n",
            "Z**6 - 64*Z**5 - 52*Z**4 - 49*Z**3 + 127*Z**2 + 114*Z + 112\n",
            "Z - 3\n",
            "Z**2 - 12*Z + 27\n",
            "Z**3 - 39*Z**2 + 94*Z + 42\n",
            "Z**4 - 120*Z**3 - 88*Z**2 - 119*Z - 61\n",
            "Z**5 - 106*Z**4 + 31*Z**3 - 66*Z**2 + 72*Z - 83\n",
            "Z**6 - 64*Z**5 - 52*Z**4 - 49*Z**3 + 127*Z**2 + 114*Z + 112\n",
            "Z - 3\n",
            "Z**2 - 12*Z + 27\n",
            "Z**3 - 39*Z**2 + 94*Z + 42\n",
            "Z**4 - 120*Z**3 - 88*Z**2 - 119*Z - 61\n",
            "Z**5 - 106*Z**4 + 31*Z**3 - 66*Z**2 + 72*Z - 83\n",
            "Z**6 - 64*Z**5 - 52*Z**4 - 49*Z**3 + 127*Z**2 + 114*Z + 112\n",
            "Z - 3\n",
            "Z**2 - 12*Z + 27\n",
            "Z**3 - 39*Z**2 + 94*Z + 42\n",
            "Z**4 - 120*Z**3 - 88*Z**2 - 119*Z - 61\n",
            "Z**5 - 106*Z**4 + 31*Z**3 - 66*Z**2 + 72*Z - 83\n",
            "Z**6 - 64*Z**5 - 52*Z**4 - 49*Z**3 + 127*Z**2 + 114*Z + 112\n",
            "Z - 3\n",
            "Z**2 - 12*Z + 27\n",
            "Z**3 - 39*Z**2 + 94*Z + 42\n",
            "Z**4 - 120*Z**3 - 88*Z**2 - 119*Z - 61\n",
            "Z**5 - 106*Z**4 + 31*Z**3 - 66*Z**2 + 72*Z - 83\n",
            "Z**6 - 64*Z**5 - 52*Z**4 - 49*Z**3 + 127*Z**2 + 114*Z + 112\n",
            "Z - 3\n",
            "Z**2 - 12*Z + 27\n",
            "Z**3 - 39*Z**2 + 94*Z + 42\n",
            "Z**4 - 120*Z**3 - 88*Z**2 - 119*Z - 61\n",
            "Z**5 - 106*Z**4 + 31*Z**3 - 66*Z**2 + 72*Z - 83\n",
            "Z**6 - 64*Z**5 - 52*Z**4 - 49*Z**3 + 127*Z**2 + 114*Z + 112\n",
            "Z - 3\n",
            "Z**2 - 12*Z + 27\n",
            "Z**3 - 39*Z**2 + 94*Z + 42\n",
            "Z**4 - 120*Z**3 - 88*Z**2 - 119*Z - 61\n",
            "Z**5 - 106*Z**4 + 31*Z**3 - 66*Z**2 + 72*Z - 83\n",
            "Z**6 - 64*Z**5 - 52*Z**4 - 49*Z**3 + 127*Z**2 + 114*Z + 112\n",
            "Z - 3\n",
            "Z**2 - 12*Z + 27\n",
            "Z**3 - 39*Z**2 + 94*Z + 42\n",
            "Z**4 - 120*Z**3 - 88*Z**2 - 119*Z - 61\n",
            "Z**5 - 106*Z**4 + 31*Z**3 - 66*Z**2 + 72*Z - 83\n",
            "Z**6 - 64*Z**5 - 52*Z**4 - 49*Z**3 + 127*Z**2 + 114*Z + 112\n",
            "Z - 3\n",
            "Z**2 - 12*Z + 27\n",
            "Z**3 - 39*Z**2 + 94*Z + 42\n",
            "Z**4 - 120*Z**3 - 88*Z**2 - 119*Z - 61\n",
            "Z**5 - 106*Z**4 + 31*Z**3 - 66*Z**2 + 72*Z - 83\n",
            "Z**6 - 64*Z**5 - 52*Z**4 - 49*Z**3 + 127*Z**2 + 114*Z + 112\n",
            "Z - 3\n",
            "Z**2 - 12*Z + 27\n",
            "Z**3 - 39*Z**2 + 94*Z + 42\n",
            "Z**4 - 120*Z**3 - 88*Z**2 - 119*Z - 61\n",
            "Z**5 - 106*Z**4 + 31*Z**3 - 66*Z**2 + 72*Z - 83\n",
            "Z**6 - 64*Z**5 - 52*Z**4 - 49*Z**3 + 127*Z**2 + 114*Z + 112\n",
            "Z - 3\n",
            "Z**2 - 12*Z + 27\n",
            "Z**3 - 39*Z**2 + 94*Z + 42\n",
            "Z**4 - 120*Z**3 - 88*Z**2 - 119*Z - 61\n",
            "Z**5 - 106*Z**4 + 31*Z**3 - 66*Z**2 + 72*Z - 83\n",
            "Z**6 - 64*Z**5 - 52*Z**4 - 49*Z**3 + 127*Z**2 + 114*Z + 112\n",
            "Z - 3\n",
            "Z**2 - 12*Z + 27\n",
            "Z**3 - 39*Z**2 + 94*Z + 42\n",
            "Z**4 - 120*Z**3 - 88*Z**2 - 119*Z - 61\n",
            "Z**5 - 106*Z**4 + 31*Z**3 - 66*Z**2 + 72*Z - 83\n",
            "Z**6 - 64*Z**5 - 52*Z**4 - 49*Z**3 + 127*Z**2 + 114*Z + 112\n",
            "Z - 3\n",
            "Z**2 - 12*Z + 27\n",
            "Z**3 - 39*Z**2 + 94*Z + 42\n",
            "Z**4 - 120*Z**3 - 88*Z**2 - 119*Z - 61\n",
            "Z**5 - 106*Z**4 + 31*Z**3 - 66*Z**2 + 72*Z - 83\n",
            "Z**6 - 64*Z**5 - 52*Z**4 - 49*Z**3 + 127*Z**2 + 114*Z + 112\n",
            "Z - 3\n",
            "Z**2 - 12*Z + 27\n",
            "Z**3 - 39*Z**2 + 94*Z + 42\n",
            "Z**4 - 120*Z**3 - 88*Z**2 - 119*Z - 61\n",
            "Z**5 - 106*Z**4 + 31*Z**3 - 66*Z**2 + 72*Z - 83\n",
            "Z**6 - 64*Z**5 - 52*Z**4 - 49*Z**3 + 127*Z**2 + 114*Z + 112\n",
            "Z - 3\n",
            "Z**2 - 12*Z + 27\n",
            "Z**3 - 39*Z**2 + 94*Z + 42\n",
            "Z**4 - 120*Z**3 - 88*Z**2 - 119*Z - 61\n",
            "Z**5 - 106*Z**4 + 31*Z**3 - 66*Z**2 + 72*Z - 83\n",
            "Z**6 - 64*Z**5 - 52*Z**4 - 49*Z**3 + 127*Z**2 + 114*Z + 112\n",
            "Z - 3\n",
            "Z**2 - 12*Z + 27\n",
            "Z**3 - 39*Z**2 + 94*Z + 42\n",
            "Z**4 - 120*Z**3 - 88*Z**2 - 119*Z - 61\n",
            "Z**5 - 106*Z**4 + 31*Z**3 - 66*Z**2 + 72*Z - 83\n",
            "Z**6 - 64*Z**5 - 52*Z**4 - 49*Z**3 + 127*Z**2 + 114*Z + 112\n",
            "Z - 3\n",
            "Z**2 - 12*Z + 27\n",
            "Z**3 - 39*Z**2 + 94*Z + 42\n",
            "Z**4 - 120*Z**3 - 88*Z**2 - 119*Z - 61\n",
            "Z**5 - 106*Z**4 + 31*Z**3 - 66*Z**2 + 72*Z - 83\n",
            "Z**6 - 64*Z**5 - 52*Z**4 - 49*Z**3 + 127*Z**2 + 114*Z + 112\n",
            "Z - 3\n",
            "Z**2 - 12*Z + 27\n",
            "Z**3 - 39*Z**2 + 94*Z + 42\n",
            "Z**4 - 120*Z**3 - 88*Z**2 - 119*Z - 61\n",
            "Z**5 - 106*Z**4 + 31*Z**3 - 66*Z**2 + 72*Z - 83\n",
            "Z**6 - 64*Z**5 - 52*Z**4 - 49*Z**3 + 127*Z**2 + 114*Z + 112\n",
            "Z - 3\n",
            "Z**2 - 12*Z + 27\n",
            "Z**3 - 39*Z**2 + 94*Z + 42\n",
            "Z**4 - 120*Z**3 - 88*Z**2 - 119*Z - 61\n",
            "Z**5 - 106*Z**4 + 31*Z**3 - 66*Z**2 + 72*Z - 83\n",
            "Z**6 - 64*Z**5 - 52*Z**4 - 49*Z**3 + 127*Z**2 + 114*Z + 112\n",
            "Z - 3\n",
            "Z**2 - 12*Z + 27\n",
            "Z**3 - 39*Z**2 + 94*Z + 42\n",
            "Z**4 - 120*Z**3 - 88*Z**2 - 119*Z - 61\n",
            "Z**5 - 106*Z**4 + 31*Z**3 - 66*Z**2 + 72*Z - 83\n",
            "Z**6 - 64*Z**5 - 52*Z**4 - 49*Z**3 + 127*Z**2 + 114*Z + 112\n",
            "Z - 3\n",
            "Z**2 - 12*Z + 27\n",
            "Z**3 - 39*Z**2 + 94*Z + 42\n",
            "Z**4 - 120*Z**3 - 88*Z**2 - 119*Z - 61\n",
            "Z**5 - 106*Z**4 + 31*Z**3 - 66*Z**2 + 72*Z - 83\n",
            "Z**6 - 64*Z**5 - 52*Z**4 - 49*Z**3 + 127*Z**2 + 114*Z + 112\n",
            "Z - 3\n",
            "Z**2 - 12*Z + 27\n",
            "Z**3 - 39*Z**2 + 94*Z + 42\n",
            "Z**4 - 120*Z**3 - 88*Z**2 - 119*Z - 61\n",
            "Z**5 - 106*Z**4 + 31*Z**3 - 66*Z**2 + 72*Z - 83\n",
            "Z**6 - 64*Z**5 - 52*Z**4 - 49*Z**3 + 127*Z**2 + 114*Z + 112\n",
            "Z - 3\n",
            "Z**2 - 12*Z + 27\n",
            "Z**3 - 39*Z**2 + 94*Z + 42\n",
            "Z**4 - 120*Z**3 - 88*Z**2 - 119*Z - 61\n",
            "Z**5 - 106*Z**4 + 31*Z**3 - 66*Z**2 + 72*Z - 83\n",
            "Z**6 - 64*Z**5 - 52*Z**4 - 49*Z**3 + 127*Z**2 + 114*Z + 112\n",
            "Z - 3\n",
            "Z**2 - 12*Z + 27\n",
            "Z**3 - 39*Z**2 + 94*Z + 42\n",
            "Z**4 - 120*Z**3 - 88*Z**2 - 119*Z - 61\n",
            "Z**5 - 106*Z**4 + 31*Z**3 - 66*Z**2 + 72*Z - 83\n",
            "Z**6 - 64*Z**5 - 52*Z**4 - 49*Z**3 + 127*Z**2 + 114*Z + 112\n",
            "Z - 3\n",
            "Z**2 - 12*Z + 27\n",
            "Z**3 - 39*Z**2 + 94*Z + 42\n",
            "Z**4 - 120*Z**3 - 88*Z**2 - 119*Z - 61\n",
            "Z**5 - 106*Z**4 + 31*Z**3 - 66*Z**2 + 72*Z - 83\n",
            "Z**6 - 64*Z**5 - 52*Z**4 - 49*Z**3 + 127*Z**2 + 114*Z + 112\n",
            "Z - 3\n",
            "Z**2 - 12*Z + 27\n",
            "Z**3 - 39*Z**2 + 94*Z + 42\n",
            "Z**4 - 120*Z**3 - 88*Z**2 - 119*Z - 61\n",
            "Z**5 - 106*Z**4 + 31*Z**3 - 66*Z**2 + 72*Z - 83\n",
            "Z**6 - 64*Z**5 - 52*Z**4 - 49*Z**3 + 127*Z**2 + 114*Z + 112\n",
            "Z - 3\n",
            "Z**2 - 12*Z + 27\n",
            "Z**3 - 39*Z**2 + 94*Z + 42\n",
            "Z**4 - 120*Z**3 - 88*Z**2 - 119*Z - 61\n",
            "Z**5 - 106*Z**4 + 31*Z**3 - 66*Z**2 + 72*Z - 83\n",
            "Z**6 - 64*Z**5 - 52*Z**4 - 49*Z**3 + 127*Z**2 + 114*Z + 112\n",
            "Z - 3\n",
            "Z**2 - 12*Z + 27\n",
            "Z**3 - 39*Z**2 + 94*Z + 42\n",
            "Z**4 - 120*Z**3 - 88*Z**2 - 119*Z - 61\n",
            "Z**5 - 106*Z**4 + 31*Z**3 - 66*Z**2 + 72*Z - 83\n",
            "Z**6 - 64*Z**5 - 52*Z**4 - 49*Z**3 + 127*Z**2 + 114*Z + 112\n",
            "Z - 3\n",
            "Z**2 - 12*Z + 27\n",
            "Z**3 - 39*Z**2 + 94*Z + 42\n",
            "Z**4 - 120*Z**3 - 88*Z**2 - 119*Z - 61\n",
            "Z**5 - 106*Z**4 + 31*Z**3 - 66*Z**2 + 72*Z - 83\n",
            "Z**6 - 64*Z**5 - 52*Z**4 - 49*Z**3 + 127*Z**2 + 114*Z + 112\n",
            "Z - 3\n",
            "Z**2 - 12*Z + 27\n",
            "Z**3 - 39*Z**2 + 94*Z + 42\n",
            "Z**4 - 120*Z**3 - 88*Z**2 - 119*Z - 61\n",
            "Z**5 - 106*Z**4 + 31*Z**3 - 66*Z**2 + 72*Z - 83\n",
            "Z**6 - 64*Z**5 - 52*Z**4 - 49*Z**3 + 127*Z**2 + 114*Z + 112\n",
            "Z - 3\n",
            "Z**2 - 12*Z + 27\n",
            "Z**3 - 39*Z**2 + 94*Z + 42\n",
            "Z**4 - 120*Z**3 - 88*Z**2 - 119*Z - 61\n",
            "Z**5 - 106*Z**4 + 31*Z**3 - 66*Z**2 + 72*Z - 83\n",
            "Z**6 - 64*Z**5 - 52*Z**4 - 49*Z**3 + 127*Z**2 + 114*Z + 112\n",
            "Z - 3\n",
            "Z**2 - 12*Z + 27\n",
            "Z**3 - 39*Z**2 + 94*Z + 42\n",
            "Z**4 - 120*Z**3 - 88*Z**2 - 119*Z - 61\n",
            "Z**5 - 106*Z**4 + 31*Z**3 - 66*Z**2 + 72*Z - 83\n",
            "Z**6 - 64*Z**5 - 52*Z**4 - 49*Z**3 + 127*Z**2 + 114*Z + 112\n",
            "Z - 3\n",
            "Z**2 - 12*Z + 27\n",
            "Z**3 - 39*Z**2 + 94*Z + 42\n",
            "Z**4 - 120*Z**3 - 88*Z**2 - 119*Z - 61\n",
            "Z**5 - 106*Z**4 + 31*Z**3 - 66*Z**2 + 72*Z - 83\n",
            "Z**6 - 64*Z**5 - 52*Z**4 - 49*Z**3 + 127*Z**2 + 114*Z + 112\n",
            "Z - 3\n",
            "Z**2 - 12*Z + 27\n",
            "Z**3 - 39*Z**2 + 94*Z + 42\n",
            "Z**4 - 120*Z**3 - 88*Z**2 - 119*Z - 61\n",
            "Z**5 - 106*Z**4 + 31*Z**3 - 66*Z**2 + 72*Z - 83\n",
            "Z**6 - 64*Z**5 - 52*Z**4 - 49*Z**3 + 127*Z**2 + 114*Z + 112\n",
            "Z - 3\n",
            "Z**2 - 12*Z + 27\n",
            "Z**3 - 39*Z**2 + 94*Z + 42\n",
            "Z**4 - 120*Z**3 - 88*Z**2 - 119*Z - 61\n",
            "Z**5 - 106*Z**4 + 31*Z**3 - 66*Z**2 + 72*Z - 83\n",
            "Z**6 - 64*Z**5 - 52*Z**4 - 49*Z**3 + 127*Z**2 + 114*Z + 112\n",
            "Z - 3\n",
            "Z**2 - 12*Z + 27\n",
            "Z**3 - 39*Z**2 + 94*Z + 42\n",
            "Z**4 - 120*Z**3 - 88*Z**2 - 119*Z - 61\n",
            "Z**5 - 106*Z**4 + 31*Z**3 - 66*Z**2 + 72*Z - 83\n",
            "Z**6 - 64*Z**5 - 52*Z**4 - 49*Z**3 + 127*Z**2 + 114*Z + 112\n",
            "Z - 3\n",
            "Z**2 - 12*Z + 27\n",
            "Z**3 - 39*Z**2 + 94*Z + 42\n",
            "Z**4 - 120*Z**3 - 88*Z**2 - 119*Z - 61\n",
            "Z**5 - 106*Z**4 + 31*Z**3 - 66*Z**2 + 72*Z - 83\n",
            "Z**6 - 64*Z**5 - 52*Z**4 - 49*Z**3 + 127*Z**2 + 114*Z + 112\n",
            "Z - 3\n",
            "Z**2 - 12*Z + 27\n",
            "Z**3 - 39*Z**2 + 94*Z + 42\n",
            "Z**4 - 120*Z**3 - 88*Z**2 - 119*Z - 61\n",
            "Z**5 - 106*Z**4 + 31*Z**3 - 66*Z**2 + 72*Z - 83\n",
            "Z**6 - 64*Z**5 - 52*Z**4 - 49*Z**3 + 127*Z**2 + 114*Z + 112\n",
            "Z - 3\n",
            "Z**2 - 12*Z + 27\n",
            "Z**3 - 39*Z**2 + 94*Z + 42\n",
            "Z**4 - 120*Z**3 - 88*Z**2 - 119*Z - 61\n",
            "Z**5 - 106*Z**4 + 31*Z**3 - 66*Z**2 + 72*Z - 83\n",
            "Z**6 - 64*Z**5 - 52*Z**4 - 49*Z**3 + 127*Z**2 + 114*Z + 112\n",
            "Z - 3\n",
            "Z**2 - 12*Z + 27\n",
            "Z**3 - 39*Z**2 + 94*Z + 42\n",
            "Z**4 - 120*Z**3 - 88*Z**2 - 119*Z - 61\n",
            "Z**5 - 106*Z**4 + 31*Z**3 - 66*Z**2 + 72*Z - 83\n",
            "Z**6 - 64*Z**5 - 52*Z**4 - 49*Z**3 + 127*Z**2 + 114*Z + 112\n",
            "Z - 3\n",
            "Z**2 - 12*Z + 27\n",
            "Z**3 - 39*Z**2 + 94*Z + 42\n",
            "Z**4 - 120*Z**3 - 88*Z**2 - 119*Z - 61\n",
            "Z**5 - 106*Z**4 + 31*Z**3 - 66*Z**2 + 72*Z - 83\n",
            "Z**6 - 64*Z**5 - 52*Z**4 - 49*Z**3 + 127*Z**2 + 114*Z + 112\n",
            "Z - 3\n",
            "Z**2 - 12*Z + 27\n",
            "Z**3 - 39*Z**2 + 94*Z + 42\n",
            "Z**4 - 120*Z**3 - 88*Z**2 - 119*Z - 61\n",
            "Z**5 - 106*Z**4 + 31*Z**3 - 66*Z**2 + 72*Z - 83\n",
            "Z**6 - 64*Z**5 - 52*Z**4 - 49*Z**3 + 127*Z**2 + 114*Z + 112\n",
            "Z - 3\n",
            "Z**2 - 12*Z + 27\n",
            "Z**3 - 39*Z**2 + 94*Z + 42\n",
            "Z**4 - 120*Z**3 - 88*Z**2 - 119*Z - 61\n",
            "Z**5 - 106*Z**4 + 31*Z**3 - 66*Z**2 + 72*Z - 83\n",
            "Z**6 - 64*Z**5 - 52*Z**4 - 49*Z**3 + 127*Z**2 + 114*Z + 112\n",
            "Z - 3\n",
            "Z**2 - 12*Z + 27\n",
            "Z**3 - 39*Z**2 + 94*Z + 42\n",
            "Z**4 - 120*Z**3 - 88*Z**2 - 119*Z - 61\n",
            "Z**5 - 106*Z**4 + 31*Z**3 - 66*Z**2 + 72*Z - 83\n",
            "Z**6 - 64*Z**5 - 52*Z**4 - 49*Z**3 + 127*Z**2 + 114*Z + 112\n",
            "Z - 3\n",
            "Z**2 - 12*Z + 27\n",
            "Z**3 - 39*Z**2 + 94*Z + 42\n",
            "Z**4 - 120*Z**3 - 88*Z**2 - 119*Z - 61\n",
            "Z**5 - 106*Z**4 + 31*Z**3 - 66*Z**2 + 72*Z - 83\n",
            "Z**6 - 64*Z**5 - 52*Z**4 - 49*Z**3 + 127*Z**2 + 114*Z + 112\n",
            "Z - 3\n",
            "Z**2 - 12*Z + 27\n",
            "Z**3 - 39*Z**2 + 94*Z + 42\n",
            "Z**4 - 120*Z**3 - 88*Z**2 - 119*Z - 61\n",
            "Z**5 - 106*Z**4 + 31*Z**3 - 66*Z**2 + 72*Z - 83\n",
            "Z**6 - 64*Z**5 - 52*Z**4 - 49*Z**3 + 127*Z**2 + 114*Z + 112\n",
            "Z - 3\n",
            "Z**2 - 12*Z + 27\n",
            "Z**3 - 39*Z**2 + 94*Z + 42\n",
            "Z**4 - 120*Z**3 - 88*Z**2 - 119*Z - 61\n",
            "Z**5 - 106*Z**4 + 31*Z**3 - 66*Z**2 + 72*Z - 83\n",
            "Z**6 - 64*Z**5 - 52*Z**4 - 49*Z**3 + 127*Z**2 + 114*Z + 112\n",
            "Z - 3\n",
            "Z**2 - 12*Z + 27\n",
            "Z**3 - 39*Z**2 + 94*Z + 42\n",
            "Z**4 - 120*Z**3 - 88*Z**2 - 119*Z - 61\n",
            "Z**5 - 106*Z**4 + 31*Z**3 - 66*Z**2 + 72*Z - 83\n",
            "Z**6 - 64*Z**5 - 52*Z**4 - 49*Z**3 + 127*Z**2 + 114*Z + 112\n",
            "Z - 3\n",
            "Z**2 - 12*Z + 27\n",
            "Z**3 - 39*Z**2 + 94*Z + 42\n",
            "Z**4 - 120*Z**3 - 88*Z**2 - 119*Z - 61\n",
            "Z**5 - 106*Z**4 + 31*Z**3 - 66*Z**2 + 72*Z - 83\n",
            "Z**6 - 64*Z**5 - 52*Z**4 - 49*Z**3 + 127*Z**2 + 114*Z + 112\n",
            "Z - 3\n",
            "Z**2 - 12*Z + 27\n",
            "Z**3 - 39*Z**2 + 94*Z + 42\n",
            "Z**4 - 120*Z**3 - 88*Z**2 - 119*Z - 61\n",
            "Z**5 - 106*Z**4 + 31*Z**3 - 66*Z**2 + 72*Z - 83\n",
            "Z**6 - 64*Z**5 - 52*Z**4 - 49*Z**3 + 127*Z**2 + 114*Z + 112\n",
            "Z - 3\n",
            "Z**2 - 12*Z + 27\n",
            "Z**3 - 39*Z**2 + 94*Z + 42\n",
            "Z**4 - 120*Z**3 - 88*Z**2 - 119*Z - 61\n",
            "Z**5 - 106*Z**4 + 31*Z**3 - 66*Z**2 + 72*Z - 83\n",
            "Z**6 - 64*Z**5 - 52*Z**4 - 49*Z**3 + 127*Z**2 + 114*Z + 112\n",
            "Z - 3\n",
            "Z**2 - 12*Z + 27\n",
            "Z**3 - 39*Z**2 + 94*Z + 42\n",
            "Z**4 - 120*Z**3 - 88*Z**2 - 119*Z - 61\n",
            "Z**5 - 106*Z**4 + 31*Z**3 - 66*Z**2 + 72*Z - 83\n",
            "Z**6 - 64*Z**5 - 52*Z**4 - 49*Z**3 + 127*Z**2 + 114*Z + 112\n",
            "Z - 3\n",
            "Z**2 - 12*Z + 27\n",
            "Z**3 - 39*Z**2 + 94*Z + 42\n",
            "Z**4 - 120*Z**3 - 88*Z**2 - 119*Z - 61\n",
            "Z**5 - 106*Z**4 + 31*Z**3 - 66*Z**2 + 72*Z - 83\n",
            "Z**6 - 64*Z**5 - 52*Z**4 - 49*Z**3 + 127*Z**2 + 114*Z + 112\n",
            "Z - 3\n",
            "Z**2 - 12*Z + 27\n",
            "Z**3 - 39*Z**2 + 94*Z + 42\n",
            "Z**4 - 120*Z**3 - 88*Z**2 - 119*Z - 61\n",
            "Z**5 - 106*Z**4 + 31*Z**3 - 66*Z**2 + 72*Z - 83\n",
            "Z**6 - 64*Z**5 - 52*Z**4 - 49*Z**3 + 127*Z**2 + 114*Z + 112\n",
            "Z - 3\n",
            "Z**2 - 12*Z + 27\n",
            "Z**3 - 39*Z**2 + 94*Z + 42\n",
            "Z**4 - 120*Z**3 - 88*Z**2 - 119*Z - 61\n",
            "Z**5 - 106*Z**4 + 31*Z**3 - 66*Z**2 + 72*Z - 83\n",
            "Z**6 - 64*Z**5 - 52*Z**4 - 49*Z**3 + 127*Z**2 + 114*Z + 112\n",
            "Z - 3\n",
            "Z**2 - 12*Z + 27\n",
            "Z**3 - 39*Z**2 + 94*Z + 42\n",
            "Z**4 - 120*Z**3 - 88*Z**2 - 119*Z - 61\n",
            "Z**5 - 106*Z**4 + 31*Z**3 - 66*Z**2 + 72*Z - 83\n",
            "Z**6 - 64*Z**5 - 52*Z**4 - 49*Z**3 + 127*Z**2 + 114*Z + 112\n",
            "Z - 3\n",
            "Z**2 - 12*Z + 27\n",
            "Z**3 - 39*Z**2 + 94*Z + 42\n",
            "Z**4 - 120*Z**3 - 88*Z**2 - 119*Z - 61\n",
            "Z**5 - 106*Z**4 + 31*Z**3 - 66*Z**2 + 72*Z - 83\n",
            "Z**6 - 64*Z**5 - 52*Z**4 - 49*Z**3 + 127*Z**2 + 114*Z + 112\n",
            "Z - 3\n",
            "Z**2 - 12*Z + 27\n",
            "Z**3 - 39*Z**2 + 94*Z + 42\n",
            "Z**4 - 120*Z**3 - 88*Z**2 - 119*Z - 61\n",
            "Z**5 - 106*Z**4 + 31*Z**3 - 66*Z**2 + 72*Z - 83\n",
            "Z**6 - 64*Z**5 - 52*Z**4 - 49*Z**3 + 127*Z**2 + 114*Z + 112\n",
            "Z - 3\n",
            "Z**2 - 12*Z + 27\n",
            "Z**3 - 39*Z**2 + 94*Z + 42\n",
            "Z**4 - 120*Z**3 - 88*Z**2 - 119*Z - 61\n",
            "Z**5 - 106*Z**4 + 31*Z**3 - 66*Z**2 + 72*Z - 83\n",
            "Z**6 - 64*Z**5 - 52*Z**4 - 49*Z**3 + 127*Z**2 + 114*Z + 112\n",
            "Z - 3\n",
            "Z**2 - 12*Z + 27\n",
            "Z**3 - 39*Z**2 + 94*Z + 42\n",
            "Z**4 - 120*Z**3 - 88*Z**2 - 119*Z - 61\n",
            "Z**5 - 106*Z**4 + 31*Z**3 - 66*Z**2 + 72*Z - 83\n",
            "Z**6 - 64*Z**5 - 52*Z**4 - 49*Z**3 + 127*Z**2 + 114*Z + 112\n",
            "Z - 3\n",
            "Z**2 - 12*Z + 27\n",
            "Z**3 - 39*Z**2 + 94*Z + 42\n",
            "Z**4 - 120*Z**3 - 88*Z**2 - 119*Z - 61\n",
            "Z**5 - 106*Z**4 + 31*Z**3 - 66*Z**2 + 72*Z - 83\n",
            "Z**6 - 64*Z**5 - 52*Z**4 - 49*Z**3 + 127*Z**2 + 114*Z + 112\n",
            "Z - 3\n",
            "Z**2 - 12*Z + 27\n",
            "Z**3 - 39*Z**2 + 94*Z + 42\n",
            "Z**4 - 120*Z**3 - 88*Z**2 - 119*Z - 61\n",
            "Z**5 - 106*Z**4 + 31*Z**3 - 66*Z**2 + 72*Z - 83\n",
            "Z**6 - 64*Z**5 - 52*Z**4 - 49*Z**3 + 127*Z**2 + 114*Z + 112\n",
            "Z - 3\n",
            "Z**2 - 12*Z + 27\n",
            "Z**3 - 39*Z**2 + 94*Z + 42\n",
            "Z**4 - 120*Z**3 - 88*Z**2 - 119*Z - 61\n",
            "Z**5 - 106*Z**4 + 31*Z**3 - 66*Z**2 + 72*Z - 83\n",
            "Z**6 - 64*Z**5 - 52*Z**4 - 49*Z**3 + 127*Z**2 + 114*Z + 112\n",
            "Z - 3\n",
            "Z**2 - 12*Z + 27\n",
            "Z**3 - 39*Z**2 + 94*Z + 42\n",
            "Z**4 - 120*Z**3 - 88*Z**2 - 119*Z - 61\n",
            "Z**5 - 106*Z**4 + 31*Z**3 - 66*Z**2 + 72*Z - 83\n",
            "Z**6 - 64*Z**5 - 52*Z**4 - 49*Z**3 + 127*Z**2 + 114*Z + 112\n",
            "Z - 3\n",
            "Z**2 - 12*Z + 27\n",
            "Z**3 - 39*Z**2 + 94*Z + 42\n",
            "Z**4 - 120*Z**3 - 88*Z**2 - 119*Z - 61\n",
            "Z**5 - 106*Z**4 + 31*Z**3 - 66*Z**2 + 72*Z - 83\n",
            "Z**6 - 64*Z**5 - 52*Z**4 - 49*Z**3 + 127*Z**2 + 114*Z + 112\n",
            "Z - 3\n",
            "Z**2 - 12*Z + 27\n",
            "Z**3 - 39*Z**2 + 94*Z + 42\n",
            "Z**4 - 120*Z**3 - 88*Z**2 - 119*Z - 61\n",
            "Z**5 - 106*Z**4 + 31*Z**3 - 66*Z**2 + 72*Z - 83\n",
            "Z**6 - 64*Z**5 - 52*Z**4 - 49*Z**3 + 127*Z**2 + 114*Z + 112\n",
            "Z - 3\n",
            "Z**2 - 12*Z + 27\n",
            "Z**3 - 39*Z**2 + 94*Z + 42\n",
            "Z**4 - 120*Z**3 - 88*Z**2 - 119*Z - 61\n",
            "Z**5 - 106*Z**4 + 31*Z**3 - 66*Z**2 + 72*Z - 83\n",
            "Z**6 - 64*Z**5 - 52*Z**4 - 49*Z**3 + 127*Z**2 + 114*Z + 112\n",
            "Z - 3\n",
            "Z**2 - 12*Z + 27\n",
            "Z**3 - 39*Z**2 + 94*Z + 42\n",
            "Z**4 - 120*Z**3 - 88*Z**2 - 119*Z - 61\n",
            "Z**5 - 106*Z**4 + 31*Z**3 - 66*Z**2 + 72*Z - 83\n",
            "Z**6 - 64*Z**5 - 52*Z**4 - 49*Z**3 + 127*Z**2 + 114*Z + 112\n",
            "Z - 3\n",
            "Z**2 - 12*Z + 27\n",
            "Z**3 - 39*Z**2 + 94*Z + 42\n",
            "Z**4 - 120*Z**3 - 88*Z**2 - 119*Z - 61\n",
            "Z**5 - 106*Z**4 + 31*Z**3 - 66*Z**2 + 72*Z - 83\n",
            "Z**6 - 64*Z**5 - 52*Z**4 - 49*Z**3 + 127*Z**2 + 114*Z + 112\n",
            "Z - 3\n",
            "Z**2 - 12*Z + 27\n",
            "Z**3 - 39*Z**2 + 94*Z + 42\n",
            "Z**4 - 120*Z**3 - 88*Z**2 - 119*Z - 61\n",
            "Z**5 - 106*Z**4 + 31*Z**3 - 66*Z**2 + 72*Z - 83\n",
            "Z**6 - 64*Z**5 - 52*Z**4 - 49*Z**3 + 127*Z**2 + 114*Z + 112\n",
            "Z - 3\n",
            "Z**2 - 12*Z + 27\n",
            "Z**3 - 39*Z**2 + 94*Z + 42\n",
            "Z**4 - 120*Z**3 - 88*Z**2 - 119*Z - 61\n",
            "Z**5 - 106*Z**4 + 31*Z**3 - 66*Z**2 + 72*Z - 83\n",
            "Z**6 - 64*Z**5 - 52*Z**4 - 49*Z**3 + 127*Z**2 + 114*Z + 112\n",
            "Z - 3\n",
            "Z**2 - 12*Z + 27\n",
            "Z**3 - 39*Z**2 + 94*Z + 42\n",
            "Z**4 - 120*Z**3 - 88*Z**2 - 119*Z - 61\n",
            "Z**5 - 106*Z**4 + 31*Z**3 - 66*Z**2 + 72*Z - 83\n",
            "Z**6 - 64*Z**5 - 52*Z**4 - 49*Z**3 + 127*Z**2 + 114*Z + 112\n",
            "Z - 3\n",
            "Z**2 - 12*Z + 27\n",
            "Z**3 - 39*Z**2 + 94*Z + 42\n",
            "Z**4 - 120*Z**3 - 88*Z**2 - 119*Z - 61\n",
            "Z**5 - 106*Z**4 + 31*Z**3 - 66*Z**2 + 72*Z - 83\n",
            "Z**6 - 64*Z**5 - 52*Z**4 - 49*Z**3 + 127*Z**2 + 114*Z + 112\n",
            "Z - 3\n",
            "Z**2 - 12*Z + 27\n",
            "Z**3 - 39*Z**2 + 94*Z + 42\n",
            "Z**4 - 120*Z**3 - 88*Z**2 - 119*Z - 61\n",
            "Z**5 - 106*Z**4 + 31*Z**3 - 66*Z**2 + 72*Z - 83\n",
            "Z**6 - 64*Z**5 - 52*Z**4 - 49*Z**3 + 127*Z**2 + 114*Z + 112\n",
            "Z - 3\n",
            "Z**2 - 12*Z + 27\n",
            "Z**3 - 39*Z**2 + 94*Z + 42\n",
            "Z**4 - 120*Z**3 - 88*Z**2 - 119*Z - 61\n",
            "Z**5 - 106*Z**4 + 31*Z**3 - 66*Z**2 + 72*Z - 83\n",
            "Z**6 - 64*Z**5 - 52*Z**4 - 49*Z**3 + 127*Z**2 + 114*Z + 112\n",
            "Z - 3\n",
            "Z**2 - 12*Z + 27\n",
            "Z**3 - 39*Z**2 + 94*Z + 42\n",
            "Z**4 - 120*Z**3 - 88*Z**2 - 119*Z - 61\n",
            "Z**5 - 106*Z**4 + 31*Z**3 - 66*Z**2 + 72*Z - 83\n",
            "Z**6 - 64*Z**5 - 52*Z**4 - 49*Z**3 + 127*Z**2 + 114*Z + 112\n",
            "Z - 3\n",
            "Z**2 - 12*Z + 27\n",
            "Z**3 - 39*Z**2 + 94*Z + 42\n",
            "Z**4 - 120*Z**3 - 88*Z**2 - 119*Z - 61\n",
            "Z**5 - 106*Z**4 + 31*Z**3 - 66*Z**2 + 72*Z - 83\n",
            "Z**6 - 64*Z**5 - 52*Z**4 - 49*Z**3 + 127*Z**2 + 114*Z + 112\n",
            "Z - 3\n",
            "Z**2 - 12*Z + 27\n",
            "Z**3 - 39*Z**2 + 94*Z + 42\n",
            "Z**4 - 120*Z**3 - 88*Z**2 - 119*Z - 61\n",
            "Z**5 - 106*Z**4 + 31*Z**3 - 66*Z**2 + 72*Z - 83\n",
            "Z**6 - 64*Z**5 - 52*Z**4 - 49*Z**3 + 127*Z**2 + 114*Z + 112\n",
            "Z - 3\n",
            "Z**2 - 12*Z + 27\n",
            "Z**3 - 39*Z**2 + 94*Z + 42\n",
            "Z**4 - 120*Z**3 - 88*Z**2 - 119*Z - 61\n",
            "Z**5 - 106*Z**4 + 31*Z**3 - 66*Z**2 + 72*Z - 83\n",
            "Z**6 - 64*Z**5 - 52*Z**4 - 49*Z**3 + 127*Z**2 + 114*Z + 112\n",
            "Z - 3\n",
            "Z**2 - 12*Z + 27\n",
            "Z**3 - 39*Z**2 + 94*Z + 42\n",
            "Z**4 - 120*Z**3 - 88*Z**2 - 119*Z - 61\n",
            "Z**5 - 106*Z**4 + 31*Z**3 - 66*Z**2 + 72*Z - 83\n",
            "Z**6 - 64*Z**5 - 52*Z**4 - 49*Z**3 + 127*Z**2 + 114*Z + 112\n",
            "Z - 3\n",
            "Z**2 - 12*Z + 27\n",
            "Z**3 - 39*Z**2 + 94*Z + 42\n",
            "Z**4 - 120*Z**3 - 88*Z**2 - 119*Z - 61\n",
            "Z**5 - 106*Z**4 + 31*Z**3 - 66*Z**2 + 72*Z - 83\n",
            "Z**6 - 64*Z**5 - 52*Z**4 - 49*Z**3 + 127*Z**2 + 114*Z + 112\n",
            "Z - 3\n",
            "Z**2 - 12*Z + 27\n",
            "Z**3 - 39*Z**2 + 94*Z + 42\n",
            "Z**4 - 120*Z**3 - 88*Z**2 - 119*Z - 61\n",
            "Z**5 - 106*Z**4 + 31*Z**3 - 66*Z**2 + 72*Z - 83\n",
            "Z**6 - 64*Z**5 - 52*Z**4 - 49*Z**3 + 127*Z**2 + 114*Z + 112\n",
            "Z - 3\n",
            "Z**2 - 12*Z + 27\n",
            "Z**3 - 39*Z**2 + 94*Z + 42\n",
            "Z**4 - 120*Z**3 - 88*Z**2 - 119*Z - 61\n",
            "Z**5 - 106*Z**4 + 31*Z**3 - 66*Z**2 + 72*Z - 83\n",
            "Z**6 - 64*Z**5 - 52*Z**4 - 49*Z**3 + 127*Z**2 + 114*Z + 112\n",
            "Z - 3\n",
            "Z**2 - 12*Z + 27\n",
            "Z**3 - 39*Z**2 + 94*Z + 42\n",
            "Z**4 - 120*Z**3 - 88*Z**2 - 119*Z - 61\n",
            "Z**5 - 106*Z**4 + 31*Z**3 - 66*Z**2 + 72*Z - 83\n",
            "Z**6 - 64*Z**5 - 52*Z**4 - 49*Z**3 + 127*Z**2 + 114*Z + 112\n",
            "Z - 3\n",
            "Z**2 - 12*Z + 27\n",
            "Z**3 - 39*Z**2 + 94*Z + 42\n",
            "Z**4 - 120*Z**3 - 88*Z**2 - 119*Z - 61\n",
            "Z**5 - 106*Z**4 + 31*Z**3 - 66*Z**2 + 72*Z - 83\n",
            "Z**6 - 64*Z**5 - 52*Z**4 - 49*Z**3 + 127*Z**2 + 114*Z + 112\n",
            "Z - 3\n",
            "Z**2 - 12*Z + 27\n",
            "Z**3 - 39*Z**2 + 94*Z + 42\n",
            "Z**4 - 120*Z**3 - 88*Z**2 - 119*Z - 61\n",
            "Z**5 - 106*Z**4 + 31*Z**3 - 66*Z**2 + 72*Z - 83\n",
            "Z**6 - 64*Z**5 - 52*Z**4 - 49*Z**3 + 127*Z**2 + 114*Z + 112\n",
            "Z - 3\n",
            "Z**2 - 12*Z + 27\n",
            "Z**3 - 39*Z**2 + 94*Z + 42\n",
            "Z**4 - 120*Z**3 - 88*Z**2 - 119*Z - 61\n",
            "Z**5 - 106*Z**4 + 31*Z**3 - 66*Z**2 + 72*Z - 83\n",
            "Z**6 - 64*Z**5 - 52*Z**4 - 49*Z**3 + 127*Z**2 + 114*Z + 112\n",
            "Z - 3\n",
            "Z**2 - 12*Z + 27\n",
            "Z**3 - 39*Z**2 + 94*Z + 42\n",
            "Z**4 - 120*Z**3 - 88*Z**2 - 119*Z - 61\n",
            "Z**5 - 106*Z**4 + 31*Z**3 - 66*Z**2 + 72*Z - 83\n",
            "Z**6 - 64*Z**5 - 52*Z**4 - 49*Z**3 + 127*Z**2 + 114*Z + 112\n",
            "Z - 3\n",
            "Z**2 - 12*Z + 27\n",
            "Z**3 - 39*Z**2 + 94*Z + 42\n",
            "Z**4 - 120*Z**3 - 88*Z**2 - 119*Z - 61\n",
            "Z**5 - 106*Z**4 + 31*Z**3 - 66*Z**2 + 72*Z - 83\n",
            "Z**6 - 64*Z**5 - 52*Z**4 - 49*Z**3 + 127*Z**2 + 114*Z + 112\n",
            "Z - 3\n",
            "Z**2 - 12*Z + 27\n",
            "Z**3 - 39*Z**2 + 94*Z + 42\n",
            "Z**4 - 120*Z**3 - 88*Z**2 - 119*Z - 61\n",
            "Z**5 - 106*Z**4 + 31*Z**3 - 66*Z**2 + 72*Z - 83\n",
            "Z**6 - 64*Z**5 - 52*Z**4 - 49*Z**3 + 127*Z**2 + 114*Z + 112\n",
            "Z - 3\n",
            "Z**2 - 12*Z + 27\n",
            "Z**3 - 39*Z**2 + 94*Z + 42\n",
            "Z**4 - 120*Z**3 - 88*Z**2 - 119*Z - 61\n",
            "Z**5 - 106*Z**4 + 31*Z**3 - 66*Z**2 + 72*Z - 83\n",
            "Z**6 - 64*Z**5 - 52*Z**4 - 49*Z**3 + 127*Z**2 + 114*Z + 112\n",
            "Z - 3\n",
            "Z**2 - 12*Z + 27\n",
            "Z**3 - 39*Z**2 + 94*Z + 42\n",
            "Z**4 - 120*Z**3 - 88*Z**2 - 119*Z - 61\n",
            "Z**5 - 106*Z**4 + 31*Z**3 - 66*Z**2 + 72*Z - 83\n",
            "Z**6 - 64*Z**5 - 52*Z**4 - 49*Z**3 + 127*Z**2 + 114*Z + 112\n",
            "Z - 3\n",
            "Z**2 - 12*Z + 27\n",
            "Z**3 - 39*Z**2 + 94*Z + 42\n",
            "Z**4 - 120*Z**3 - 88*Z**2 - 119*Z - 61\n",
            "Z**5 - 106*Z**4 + 31*Z**3 - 66*Z**2 + 72*Z - 83\n",
            "Z**6 - 64*Z**5 - 52*Z**4 - 49*Z**3 + 127*Z**2 + 114*Z + 112\n",
            "Z - 3\n",
            "Z**2 - 12*Z + 27\n",
            "Z**3 - 39*Z**2 + 94*Z + 42\n",
            "Z**4 - 120*Z**3 - 88*Z**2 - 119*Z - 61\n",
            "Z**5 - 106*Z**4 + 31*Z**3 - 66*Z**2 + 72*Z - 83\n",
            "Z**6 - 64*Z**5 - 52*Z**4 - 49*Z**3 + 127*Z**2 + 114*Z + 112\n",
            "Z - 3\n",
            "Z**2 - 12*Z + 27\n",
            "Z**3 - 39*Z**2 + 94*Z + 42\n",
            "Z**4 - 120*Z**3 - 88*Z**2 - 119*Z - 61\n",
            "Z**5 - 106*Z**4 + 31*Z**3 - 66*Z**2 + 72*Z - 83\n",
            "Z**6 - 64*Z**5 - 52*Z**4 - 49*Z**3 + 127*Z**2 + 114*Z + 112\n",
            "Z - 3\n",
            "Z**2 - 12*Z + 27\n",
            "Z**3 - 39*Z**2 + 94*Z + 42\n",
            "Z**4 - 120*Z**3 - 88*Z**2 - 119*Z - 61\n",
            "Z**5 - 106*Z**4 + 31*Z**3 - 66*Z**2 + 72*Z - 83\n",
            "Z**6 - 64*Z**5 - 52*Z**4 - 49*Z**3 + 127*Z**2 + 114*Z + 112\n",
            "Z - 3\n",
            "Z**2 - 12*Z + 27\n",
            "Z**3 - 39*Z**2 + 94*Z + 42\n",
            "Z**4 - 120*Z**3 - 88*Z**2 - 119*Z - 61\n",
            "Z**5 - 106*Z**4 + 31*Z**3 - 66*Z**2 + 72*Z - 83\n",
            "Z**6 - 64*Z**5 - 52*Z**4 - 49*Z**3 + 127*Z**2 + 114*Z + 112\n",
            "Z - 3\n",
            "Z**2 - 12*Z + 27\n",
            "Z**3 - 39*Z**2 + 94*Z + 42\n",
            "Z**4 - 120*Z**3 - 88*Z**2 - 119*Z - 61\n",
            "Z**5 - 106*Z**4 + 31*Z**3 - 66*Z**2 + 72*Z - 83\n",
            "Z**6 - 64*Z**5 - 52*Z**4 - 49*Z**3 + 127*Z**2 + 114*Z + 112\n",
            "Z - 3\n",
            "Z**2 - 12*Z + 27\n",
            "Z**3 - 39*Z**2 + 94*Z + 42\n",
            "Z**4 - 120*Z**3 - 88*Z**2 - 119*Z - 61\n",
            "Z**5 - 106*Z**4 + 31*Z**3 - 66*Z**2 + 72*Z - 83\n",
            "Z**6 - 64*Z**5 - 52*Z**4 - 49*Z**3 + 127*Z**2 + 114*Z + 112\n",
            "Z - 3\n",
            "Z**2 - 12*Z + 27\n",
            "Z**3 - 39*Z**2 + 94*Z + 42\n",
            "Z**4 - 120*Z**3 - 88*Z**2 - 119*Z - 61\n",
            "Z**5 - 106*Z**4 + 31*Z**3 - 66*Z**2 + 72*Z - 83\n",
            "Z**6 - 64*Z**5 - 52*Z**4 - 49*Z**3 + 127*Z**2 + 114*Z + 112\n",
            "Z - 3\n",
            "Z**2 - 12*Z + 27\n",
            "Z**3 - 39*Z**2 + 94*Z + 42\n",
            "Z**4 - 120*Z**3 - 88*Z**2 - 119*Z - 61\n",
            "Z**5 - 106*Z**4 + 31*Z**3 - 66*Z**2 + 72*Z - 83\n",
            "Z**6 - 64*Z**5 - 52*Z**4 - 49*Z**3 + 127*Z**2 + 114*Z + 112\n",
            "Z - 3\n",
            "Z**2 - 12*Z + 27\n",
            "Z**3 - 39*Z**2 + 94*Z + 42\n",
            "Z**4 - 120*Z**3 - 88*Z**2 - 119*Z - 61\n",
            "Z**5 - 106*Z**4 + 31*Z**3 - 66*Z**2 + 72*Z - 83\n",
            "Z**6 - 64*Z**5 - 52*Z**4 - 49*Z**3 + 127*Z**2 + 114*Z + 112\n",
            "Z - 3\n",
            "Z**2 - 12*Z + 27\n",
            "Z**3 - 39*Z**2 + 94*Z + 42\n",
            "Z**4 - 120*Z**3 - 88*Z**2 - 119*Z - 61\n",
            "Z**5 - 106*Z**4 + 31*Z**3 - 66*Z**2 + 72*Z - 83\n",
            "Z**6 - 64*Z**5 - 52*Z**4 - 49*Z**3 + 127*Z**2 + 114*Z + 112\n",
            "Z - 3\n",
            "Z**2 - 12*Z + 27\n",
            "Z**3 - 39*Z**2 + 94*Z + 42\n",
            "Z**4 - 120*Z**3 - 88*Z**2 - 119*Z - 61\n",
            "Z**5 - 106*Z**4 + 31*Z**3 - 66*Z**2 + 72*Z - 83\n",
            "Z**6 - 64*Z**5 - 52*Z**4 - 49*Z**3 + 127*Z**2 + 114*Z + 112\n",
            "Z - 3\n",
            "Z**2 - 12*Z + 27\n",
            "Z**3 - 39*Z**2 + 94*Z + 42\n",
            "Z**4 - 120*Z**3 - 88*Z**2 - 119*Z - 61\n",
            "Z**5 - 106*Z**4 + 31*Z**3 - 66*Z**2 + 72*Z - 83\n",
            "Z**6 - 64*Z**5 - 52*Z**4 - 49*Z**3 + 127*Z**2 + 114*Z + 112\n",
            "Z - 3\n",
            "Z**2 - 12*Z + 27\n",
            "Z**3 - 39*Z**2 + 94*Z + 42\n",
            "Z**4 - 120*Z**3 - 88*Z**2 - 119*Z - 61\n",
            "Z**5 - 106*Z**4 + 31*Z**3 - 66*Z**2 + 72*Z - 83\n",
            "Z**6 - 64*Z**5 - 52*Z**4 - 49*Z**3 + 127*Z**2 + 114*Z + 112\n",
            "Z - 3\n",
            "Z**2 - 12*Z + 27\n",
            "Z**3 - 39*Z**2 + 94*Z + 42\n",
            "Z**4 - 120*Z**3 - 88*Z**2 - 119*Z - 61\n",
            "Z**5 - 106*Z**4 + 31*Z**3 - 66*Z**2 + 72*Z - 83\n",
            "Z**6 - 64*Z**5 - 52*Z**4 - 49*Z**3 + 127*Z**2 + 114*Z + 112\n",
            "Z - 3\n",
            "Z**2 - 12*Z + 27\n",
            "Z**3 - 39*Z**2 + 94*Z + 42\n",
            "Z**4 - 120*Z**3 - 88*Z**2 - 119*Z - 61\n",
            "Z**5 - 106*Z**4 + 31*Z**3 - 66*Z**2 + 72*Z - 83\n",
            "Z**6 - 64*Z**5 - 52*Z**4 - 49*Z**3 + 127*Z**2 + 114*Z + 112\n",
            "Z - 3\n",
            "Z**2 - 12*Z + 27\n",
            "Z**3 - 39*Z**2 + 94*Z + 42\n",
            "Z**4 - 120*Z**3 - 88*Z**2 - 119*Z - 61\n",
            "Z**5 - 106*Z**4 + 31*Z**3 - 66*Z**2 + 72*Z - 83\n",
            "Z**6 - 64*Z**5 - 52*Z**4 - 49*Z**3 + 127*Z**2 + 114*Z + 112\n",
            "Z - 3\n",
            "Z**2 - 12*Z + 27\n",
            "Z**3 - 39*Z**2 + 94*Z + 42\n",
            "Z**4 - 120*Z**3 - 88*Z**2 - 119*Z - 61\n",
            "Z**5 - 106*Z**4 + 31*Z**3 - 66*Z**2 + 72*Z - 83\n",
            "Z**6 - 64*Z**5 - 52*Z**4 - 49*Z**3 + 127*Z**2 + 114*Z + 112\n",
            "Z - 3\n",
            "Z**2 - 12*Z + 27\n",
            "Z**3 - 39*Z**2 + 94*Z + 42\n",
            "Z**4 - 120*Z**3 - 88*Z**2 - 119*Z - 61\n",
            "Z**5 - 106*Z**4 + 31*Z**3 - 66*Z**2 + 72*Z - 83\n",
            "Z**6 - 64*Z**5 - 52*Z**4 - 49*Z**3 + 127*Z**2 + 114*Z + 112\n",
            "Z - 3\n",
            "Z**2 - 12*Z + 27\n",
            "Z**3 - 39*Z**2 + 94*Z + 42\n",
            "Z**4 - 120*Z**3 - 88*Z**2 - 119*Z - 61\n",
            "Z**5 - 106*Z**4 + 31*Z**3 - 66*Z**2 + 72*Z - 83\n",
            "Z**6 - 64*Z**5 - 52*Z**4 - 49*Z**3 + 127*Z**2 + 114*Z + 112\n",
            "Z - 3\n",
            "Z**2 - 12*Z + 27\n",
            "Z**3 - 39*Z**2 + 94*Z + 42\n",
            "Z**4 - 120*Z**3 - 88*Z**2 - 119*Z - 61\n",
            "Z**5 - 106*Z**4 + 31*Z**3 - 66*Z**2 + 72*Z - 83\n",
            "Z**6 - 64*Z**5 - 52*Z**4 - 49*Z**3 + 127*Z**2 + 114*Z + 112\n",
            "Z - 3\n",
            "Z**2 - 12*Z + 27\n",
            "Z**3 - 39*Z**2 + 94*Z + 42\n",
            "Z**4 - 120*Z**3 - 88*Z**2 - 119*Z - 61\n",
            "Z**5 - 106*Z**4 + 31*Z**3 - 66*Z**2 + 72*Z - 83\n",
            "Z**6 - 64*Z**5 - 52*Z**4 - 49*Z**3 + 127*Z**2 + 114*Z + 112\n",
            "Z - 3\n",
            "Z**2 - 12*Z + 27\n",
            "Z**3 - 39*Z**2 + 94*Z + 42\n",
            "Z**4 - 120*Z**3 - 88*Z**2 - 119*Z - 61\n",
            "Z**5 - 106*Z**4 + 31*Z**3 - 66*Z**2 + 72*Z - 83\n",
            "Z**6 - 64*Z**5 - 52*Z**4 - 49*Z**3 + 127*Z**2 + 114*Z + 112\n",
            "Z - 3\n",
            "Z**2 - 12*Z + 27\n",
            "Z**3 - 39*Z**2 + 94*Z + 42\n",
            "Z**4 - 120*Z**3 - 88*Z**2 - 119*Z - 61\n",
            "Z**5 - 106*Z**4 + 31*Z**3 - 66*Z**2 + 72*Z - 83\n",
            "Z**6 - 64*Z**5 - 52*Z**4 - 49*Z**3 + 127*Z**2 + 114*Z + 112\n",
            "Z - 3\n",
            "Z**2 - 12*Z + 27\n",
            "Z**3 - 39*Z**2 + 94*Z + 42\n",
            "Z**4 - 120*Z**3 - 88*Z**2 - 119*Z - 61\n",
            "Z**5 - 106*Z**4 + 31*Z**3 - 66*Z**2 + 72*Z - 83\n",
            "Z**6 - 64*Z**5 - 52*Z**4 - 49*Z**3 + 127*Z**2 + 114*Z + 112\n",
            "Z - 3\n",
            "Z**2 - 12*Z + 27\n",
            "Z**3 - 39*Z**2 + 94*Z + 42\n",
            "Z**4 - 120*Z**3 - 88*Z**2 - 119*Z - 61\n",
            "Z**5 - 106*Z**4 + 31*Z**3 - 66*Z**2 + 72*Z - 83\n",
            "Z**6 - 64*Z**5 - 52*Z**4 - 49*Z**3 + 127*Z**2 + 114*Z + 112\n"
          ]
        }
      ],
      "source": [
        "Q = 257\n",
        "ALPHA = 3\n",
        "N = 256\n",
        "K = 250\n",
        "T = N - K\n",
        "\n",
        "\n",
        "def encode_image(img):\n",
        "    bs = image_to_bytes(img)\n",
        "    assert len(bs) % K == 0\n",
        "    x = []\n",
        "    for i in range(len(bs) // K):\n",
        "        block = list(bs[K * i : K * (i + 1)])\n",
        "        enc = encode(block, T=T, alpha=ALPHA, q=Q)\n",
        "        x += enc\n",
        "    return x\n",
        "\n",
        "\n",
        "ENCODED_IMAGE = encode_image(ORIGINAL_IMAGE)"
      ]
    },
    {
      "cell_type": "markdown",
      "metadata": {
        "id": "3ZYxD1VHoCeS"
      },
      "source": [
        "Here is the corresponding decoder.\n",
        "The option `correct` determined if we apply error correction or not."
      ]
    },
    {
      "cell_type": "code",
      "execution_count": null,
      "metadata": {
        "id": "4lUPOvKIoCeS"
      },
      "outputs": [],
      "source": [
        "def decode_image(y, correct):\n",
        "    assert len(y) % N == 0\n",
        "    bs = []\n",
        "    for i in range(len(y) // N):\n",
        "        block = y[N * i : N * (i + 1)]\n",
        "        if not correct:\n",
        "            dec = block[T:]\n",
        "        else:\n",
        "            try:\n",
        "                dec = decode_unknown(block, T=T, alpha=ALPHA, q=Q)\n",
        "            except:\n",
        "                print(f\"failed to correct error in block {i}\")\n",
        "                dec = block[T:]\n",
        "        dec = [s % Q for s in dec]  # to force in range 0..255\n",
        "        bs += dec\n",
        "    return bytes_to_image(np.array(bs, dtype=np.uint8))\n",
        "\n",
        "\n",
        "assert np.allclose(decode_image(ENCODED_IMAGE, correct=False), ORIGINAL_IMAGE)\n",
        "assert np.allclose(decode_image(ENCODED_IMAGE, correct=True), ORIGINAL_IMAGE)"
      ]
    },
    {
      "cell_type": "markdown",
      "metadata": {
        "id": "ZJC12U38oCeS"
      },
      "source": [
        "Now let's start corrupting the encoded image at 0.5% of the locations."
      ]
    },
    {
      "cell_type": "code",
      "execution_count": null,
      "metadata": {
        "id": "QvTMuTnUoCeS"
      },
      "outputs": [],
      "source": [
        "CORRUPTED_IMAGE = list(ENCODED_IMAGE)\n",
        "l = len(CORRUPTED_IMAGE)\n",
        "np.random.seed(12345)\n",
        "for _ in range(l // 200):\n",
        "    loc = np.random.randint(l)\n",
        "    CORRUPTED_IMAGE[loc] = np.random.randint(Q)"
      ]
    },
    {
      "cell_type": "markdown",
      "metadata": {
        "id": "tBwJP0YvoCeS"
      },
      "source": [
        "Now let us decode with and without error correction, and see if the Reed-Solomon code does its job!"
      ]
    },
    {
      "cell_type": "code",
      "execution_count": null,
      "metadata": {
        "id": "TFgbTtmgoCeS",
        "outputId": "496a85f0-1840-431d-9a2d-4f4be33183e0",
        "colab": {
          "base_uri": "https://localhost:8080/",
          "height": 450
        }
      },
      "outputs": [
        {
          "output_type": "stream",
          "name": "stderr",
          "text": [
            "<ipython-input-153-70ce26dcc03c>:16: DeprecationWarning: NumPy will stop allowing conversion of out-of-bound Python integers to integer arrays.  The conversion of 256 to uint8 will fail in the future.\n",
            "For the old behavior, usually:\n",
            "    np.array(value).astype(dtype)\n",
            "will give the desired result (the cast overflows).\n",
            "  return bytes_to_image(np.array(bs, dtype=np.uint8))\n"
          ]
        },
        {
          "output_type": "display_data",
          "data": {
            "text/plain": [
              "<Figure size 2000x2000 with 4 Axes>"
            ],
            "image/png": "[encoded data removed]"
          },
          "metadata": {}
        }
      ],
      "source": [
        "fig, row = plt.subplots(1, 4, figsize=(20, 20))\n",
        "\n",
        "# decode with and without correction\n",
        "uncorrected = decode_image(CORRUPTED_IMAGE, correct=False)\n",
        "uncorrected_delta = np.abs(uncorrected - ORIGINAL_IMAGE)\n",
        "corrected = decode_image(CORRUPTED_IMAGE, correct=True)\n",
        "corrected_delta = np.abs(corrected - ORIGINAL_IMAGE)\n",
        "\n",
        "# plot pictures\n",
        "row[0].set_title(\"without correction\")\n",
        "row[0].imshow(uncorrected, cmap=plt.get_cmap(\"binary\"), interpolation=\"none\")\n",
        "\n",
        "row[1].set_title(f\"errors (# = {uncorrected_delta.sum()})\")\n",
        "row[1].imshow(1 - uncorrected_delta, cmap=plt.get_cmap(\"binary\"), interpolation=\"none\")\n",
        "\n",
        "row[2].set_title(f\"with correction\")\n",
        "row[2].imshow(corrected, cmap=plt.get_cmap(\"binary\"), interpolation=\"none\")\n",
        "\n",
        "row[3].set_title(f\"remaining errors (# = {corrected_delta.sum()})\")\n",
        "row[3].imshow(1 - corrected_delta, cmap=plt.get_cmap(\"binary\"), interpolation=\"none\")\n",
        "\n",
        "\n",
        "fig.tight_layout()"
      ]
    }
  ],
  "metadata": {
    "kernelspec": {
      "display_name": "python3",
      "language": "python",
      "name": "python3"
    },
    "colab": {
      "provenance": []
    }
  },
  "nbformat": 4,
  "nbformat_minor": 0
}